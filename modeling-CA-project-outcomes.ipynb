{
 "cells": [
  {
   "cell_type": "code",
   "execution_count": 1,
   "metadata": {},
   "outputs": [],
   "source": [
    "import numpy as np\n",
    "import pandas as pd\n",
    "pd.set_option(\"max_r\", 100)\n",
    "pd.get_option(\"display.max_rows\")\n",
    "pd.options.display.max_columns = None"
   ]
  },
  {
   "cell_type": "markdown",
   "metadata": {},
   "source": [
    "### Using Original Dataset (without k-1 for dummies):"
   ]
  },
  {
   "cell_type": "code",
   "execution_count": 2,
   "metadata": {},
   "outputs": [],
   "source": [
    "ca_projects = pd.read_csv('data/ca_projects_model.csv')"
   ]
  },
  {
   "cell_type": "code",
   "execution_count": 3,
   "metadata": {},
   "outputs": [
    {
     "data": {
      "text/html": [
       "<div>\n",
       "<style scoped>\n",
       "    .dataframe tbody tr th:only-of-type {\n",
       "        vertical-align: middle;\n",
       "    }\n",
       "\n",
       "    .dataframe tbody tr th {\n",
       "        vertical-align: top;\n",
       "    }\n",
       "\n",
       "    .dataframe thead th {\n",
       "        text-align: right;\n",
       "    }\n",
       "</style>\n",
       "<table border=\"1\" class=\"dataframe\">\n",
       "  <thead>\n",
       "    <tr style=\"text-align: right;\">\n",
       "      <th></th>\n",
       "      <th>project_id</th>\n",
       "      <th>max_donation_amount</th>\n",
       "      <th>total_donations</th>\n",
       "      <th>teacher_project_posted_sequence</th>\n",
       "      <th>project_cost</th>\n",
       "      <th>resource_unit_price</th>\n",
       "      <th>school_percentage_free_lunch</th>\n",
       "      <th>history_civics</th>\n",
       "      <th>project_status</th>\n",
       "      <th>literacy_language</th>\n",
       "      <th>math_science</th>\n",
       "      <th>health_sports</th>\n",
       "      <th>warmth</th>\n",
       "      <th>care_hunger</th>\n",
       "      <th>music_the_arts</th>\n",
       "      <th>special_needs</th>\n",
       "      <th>applied_learning</th>\n",
       "      <th>art_supplies</th>\n",
       "      <th>books</th>\n",
       "      <th>classroom_basics</th>\n",
       "      <th>computers_tablets</th>\n",
       "      <th>educational_kits_games</th>\n",
       "      <th>flexible_seating</th>\n",
       "      <th>food,_clothing_hygiene</th>\n",
       "      <th>instructional_technology</th>\n",
       "      <th>lab_equipment</th>\n",
       "      <th>musical_instruments</th>\n",
       "      <th>other</th>\n",
       "      <th>reading_nooks,_desks_storage</th>\n",
       "      <th>sports_exercise_equipment</th>\n",
       "      <th>supplies</th>\n",
       "      <th>technology</th>\n",
       "      <th>trips</th>\n",
       "      <th>visitors</th>\n",
       "      <th>grades_3-5</th>\n",
       "      <th>grades_6-8</th>\n",
       "      <th>grades_9-12</th>\n",
       "      <th>grades_prek-2</th>\n",
       "      <th>professional_development</th>\n",
       "      <th>student_led</th>\n",
       "      <th>teacher_led</th>\n",
       "      <th>female</th>\n",
       "      <th>male</th>\n",
       "      <th>neutral</th>\n",
       "      <th>days_to_first_donation</th>\n",
       "      <th>days_duration_campaign</th>\n",
       "      <th>month_project_posted</th>\n",
       "    </tr>\n",
       "  </thead>\n",
       "  <tbody>\n",
       "    <tr>\n",
       "      <td>0</td>\n",
       "      <td>00005454366b6b914f9a8290f18f4aed</td>\n",
       "      <td>54.30</td>\n",
       "      <td>6</td>\n",
       "      <td>2</td>\n",
       "      <td>319.44</td>\n",
       "      <td>35.05</td>\n",
       "      <td>62.0</td>\n",
       "      <td>1</td>\n",
       "      <td>0</td>\n",
       "      <td>0</td>\n",
       "      <td>0</td>\n",
       "      <td>0</td>\n",
       "      <td>0</td>\n",
       "      <td>0</td>\n",
       "      <td>0</td>\n",
       "      <td>0</td>\n",
       "      <td>0</td>\n",
       "      <td>0</td>\n",
       "      <td>1</td>\n",
       "      <td>0</td>\n",
       "      <td>0</td>\n",
       "      <td>0</td>\n",
       "      <td>0</td>\n",
       "      <td>0</td>\n",
       "      <td>0</td>\n",
       "      <td>0</td>\n",
       "      <td>0</td>\n",
       "      <td>0</td>\n",
       "      <td>0</td>\n",
       "      <td>0</td>\n",
       "      <td>0</td>\n",
       "      <td>0</td>\n",
       "      <td>0</td>\n",
       "      <td>0</td>\n",
       "      <td>0</td>\n",
       "      <td>0</td>\n",
       "      <td>0</td>\n",
       "      <td>1</td>\n",
       "      <td>0</td>\n",
       "      <td>0</td>\n",
       "      <td>1</td>\n",
       "      <td>1</td>\n",
       "      <td>0</td>\n",
       "      <td>0</td>\n",
       "      <td>1</td>\n",
       "      <td>122</td>\n",
       "      <td>3</td>\n",
       "    </tr>\n",
       "    <tr>\n",
       "      <td>1</td>\n",
       "      <td>00006084c3d92d904a22e0a70f5c119a</td>\n",
       "      <td>182.38</td>\n",
       "      <td>6</td>\n",
       "      <td>41</td>\n",
       "      <td>364.76</td>\n",
       "      <td>32.81</td>\n",
       "      <td>95.0</td>\n",
       "      <td>0</td>\n",
       "      <td>0</td>\n",
       "      <td>0</td>\n",
       "      <td>0</td>\n",
       "      <td>0</td>\n",
       "      <td>1</td>\n",
       "      <td>1</td>\n",
       "      <td>0</td>\n",
       "      <td>0</td>\n",
       "      <td>0</td>\n",
       "      <td>0</td>\n",
       "      <td>0</td>\n",
       "      <td>0</td>\n",
       "      <td>0</td>\n",
       "      <td>0</td>\n",
       "      <td>0</td>\n",
       "      <td>0</td>\n",
       "      <td>0</td>\n",
       "      <td>0</td>\n",
       "      <td>0</td>\n",
       "      <td>0</td>\n",
       "      <td>0</td>\n",
       "      <td>0</td>\n",
       "      <td>1</td>\n",
       "      <td>0</td>\n",
       "      <td>0</td>\n",
       "      <td>0</td>\n",
       "      <td>1</td>\n",
       "      <td>0</td>\n",
       "      <td>0</td>\n",
       "      <td>0</td>\n",
       "      <td>0</td>\n",
       "      <td>0</td>\n",
       "      <td>1</td>\n",
       "      <td>1</td>\n",
       "      <td>0</td>\n",
       "      <td>0</td>\n",
       "      <td>17</td>\n",
       "      <td>122</td>\n",
       "      <td>7</td>\n",
       "    </tr>\n",
       "    <tr>\n",
       "      <td>2</td>\n",
       "      <td>0001037c9aa509b21c47ef94822ae9c1</td>\n",
       "      <td>180.85</td>\n",
       "      <td>8</td>\n",
       "      <td>1</td>\n",
       "      <td>490.85</td>\n",
       "      <td>349.95</td>\n",
       "      <td>92.0</td>\n",
       "      <td>0</td>\n",
       "      <td>0</td>\n",
       "      <td>0</td>\n",
       "      <td>1</td>\n",
       "      <td>0</td>\n",
       "      <td>0</td>\n",
       "      <td>0</td>\n",
       "      <td>0</td>\n",
       "      <td>0</td>\n",
       "      <td>0</td>\n",
       "      <td>0</td>\n",
       "      <td>0</td>\n",
       "      <td>0</td>\n",
       "      <td>0</td>\n",
       "      <td>0</td>\n",
       "      <td>0</td>\n",
       "      <td>0</td>\n",
       "      <td>0</td>\n",
       "      <td>0</td>\n",
       "      <td>0</td>\n",
       "      <td>0</td>\n",
       "      <td>0</td>\n",
       "      <td>0</td>\n",
       "      <td>1</td>\n",
       "      <td>0</td>\n",
       "      <td>0</td>\n",
       "      <td>0</td>\n",
       "      <td>0</td>\n",
       "      <td>1</td>\n",
       "      <td>0</td>\n",
       "      <td>0</td>\n",
       "      <td>0</td>\n",
       "      <td>0</td>\n",
       "      <td>1</td>\n",
       "      <td>1</td>\n",
       "      <td>0</td>\n",
       "      <td>0</td>\n",
       "      <td>2</td>\n",
       "      <td>117</td>\n",
       "      <td>1</td>\n",
       "    </tr>\n",
       "  </tbody>\n",
       "</table>\n",
       "</div>"
      ],
      "text/plain": [
       "                         project_id  max_donation_amount  total_donations  \\\n",
       "0  00005454366b6b914f9a8290f18f4aed                54.30                6   \n",
       "1  00006084c3d92d904a22e0a70f5c119a               182.38                6   \n",
       "2  0001037c9aa509b21c47ef94822ae9c1               180.85                8   \n",
       "\n",
       "   teacher_project_posted_sequence  project_cost  resource_unit_price  \\\n",
       "0                                2        319.44                35.05   \n",
       "1                               41        364.76                32.81   \n",
       "2                                1        490.85               349.95   \n",
       "\n",
       "   school_percentage_free_lunch  history_civics  project_status  \\\n",
       "0                          62.0               1               0   \n",
       "1                          95.0               0               0   \n",
       "2                          92.0               0               0   \n",
       "\n",
       "   literacy_language  math_science  health_sports  warmth  care_hunger  \\\n",
       "0                  0             0              0       0            0   \n",
       "1                  0             0              0       1            1   \n",
       "2                  0             1              0       0            0   \n",
       "\n",
       "   music_the_arts  special_needs  applied_learning  art_supplies  books  \\\n",
       "0               0              0                 0             0      1   \n",
       "1               0              0                 0             0      0   \n",
       "2               0              0                 0             0      0   \n",
       "\n",
       "   classroom_basics  computers_tablets  educational_kits_games  \\\n",
       "0                 0                  0                       0   \n",
       "1                 0                  0                       0   \n",
       "2                 0                  0                       0   \n",
       "\n",
       "   flexible_seating  food,_clothing_hygiene  instructional_technology  \\\n",
       "0                 0                       0                         0   \n",
       "1                 0                       0                         0   \n",
       "2                 0                       0                         0   \n",
       "\n",
       "   lab_equipment  musical_instruments  other  reading_nooks,_desks_storage  \\\n",
       "0              0                    0      0                             0   \n",
       "1              0                    0      0                             0   \n",
       "2              0                    0      0                             0   \n",
       "\n",
       "   sports_exercise_equipment  supplies  technology  trips  visitors  \\\n",
       "0                          0         0           0      0         0   \n",
       "1                          0         1           0      0         0   \n",
       "2                          0         1           0      0         0   \n",
       "\n",
       "   grades_3-5  grades_6-8  grades_9-12  grades_prek-2  \\\n",
       "0           0           0            0              1   \n",
       "1           1           0            0              0   \n",
       "2           0           1            0              0   \n",
       "\n",
       "   professional_development  student_led  teacher_led  female  male  neutral  \\\n",
       "0                         0            0            1       1     0        0   \n",
       "1                         0            0            1       1     0        0   \n",
       "2                         0            0            1       1     0        0   \n",
       "\n",
       "   days_to_first_donation  days_duration_campaign  month_project_posted  \n",
       "0                       1                     122                     3  \n",
       "1                      17                     122                     7  \n",
       "2                       2                     117                     1  "
      ]
     },
     "execution_count": 3,
     "metadata": {},
     "output_type": "execute_result"
    }
   ],
   "source": [
    "ca_projects.head(3)"
   ]
  },
  {
   "cell_type": "code",
   "execution_count": 4,
   "metadata": {},
   "outputs": [
    {
     "data": {
      "text/html": [
       "<div>\n",
       "<style scoped>\n",
       "    .dataframe tbody tr th:only-of-type {\n",
       "        vertical-align: middle;\n",
       "    }\n",
       "\n",
       "    .dataframe tbody tr th {\n",
       "        vertical-align: top;\n",
       "    }\n",
       "\n",
       "    .dataframe thead th {\n",
       "        text-align: right;\n",
       "    }\n",
       "</style>\n",
       "<table border=\"1\" class=\"dataframe\">\n",
       "  <thead>\n",
       "    <tr style=\"text-align: right;\">\n",
       "      <th></th>\n",
       "      <th>max_donation_amount</th>\n",
       "      <th>total_donations</th>\n",
       "      <th>teacher_project_posted_sequence</th>\n",
       "      <th>project_cost</th>\n",
       "      <th>resource_unit_price</th>\n",
       "      <th>school_percentage_free_lunch</th>\n",
       "      <th>history_civics</th>\n",
       "      <th>project_status</th>\n",
       "      <th>literacy_language</th>\n",
       "      <th>math_science</th>\n",
       "      <th>health_sports</th>\n",
       "      <th>warmth</th>\n",
       "      <th>care_hunger</th>\n",
       "      <th>music_the_arts</th>\n",
       "      <th>special_needs</th>\n",
       "      <th>applied_learning</th>\n",
       "      <th>art_supplies</th>\n",
       "      <th>books</th>\n",
       "      <th>classroom_basics</th>\n",
       "      <th>computers_tablets</th>\n",
       "      <th>educational_kits_games</th>\n",
       "      <th>flexible_seating</th>\n",
       "      <th>food,_clothing_hygiene</th>\n",
       "      <th>instructional_technology</th>\n",
       "      <th>lab_equipment</th>\n",
       "      <th>musical_instruments</th>\n",
       "      <th>other</th>\n",
       "      <th>reading_nooks,_desks_storage</th>\n",
       "      <th>sports_exercise_equipment</th>\n",
       "      <th>supplies</th>\n",
       "      <th>technology</th>\n",
       "      <th>trips</th>\n",
       "      <th>visitors</th>\n",
       "      <th>grades_3-5</th>\n",
       "      <th>grades_6-8</th>\n",
       "      <th>grades_9-12</th>\n",
       "      <th>grades_prek-2</th>\n",
       "      <th>professional_development</th>\n",
       "      <th>student_led</th>\n",
       "      <th>teacher_led</th>\n",
       "      <th>female</th>\n",
       "      <th>male</th>\n",
       "      <th>neutral</th>\n",
       "      <th>days_to_first_donation</th>\n",
       "      <th>days_duration_campaign</th>\n",
       "      <th>month_project_posted</th>\n",
       "    </tr>\n",
       "  </thead>\n",
       "  <tbody>\n",
       "    <tr>\n",
       "      <td>count</td>\n",
       "      <td>124418.000000</td>\n",
       "      <td>124418.000000</td>\n",
       "      <td>124418.000000</td>\n",
       "      <td>124418.000000</td>\n",
       "      <td>124418.000000</td>\n",
       "      <td>124418.000000</td>\n",
       "      <td>124418.000000</td>\n",
       "      <td>124418.000000</td>\n",
       "      <td>124418.000000</td>\n",
       "      <td>124418.000000</td>\n",
       "      <td>124418.000000</td>\n",
       "      <td>124418.000000</td>\n",
       "      <td>124418.000000</td>\n",
       "      <td>124418.000000</td>\n",
       "      <td>124418.000000</td>\n",
       "      <td>124418.000000</td>\n",
       "      <td>124418.000000</td>\n",
       "      <td>124418.000000</td>\n",
       "      <td>124418.000000</td>\n",
       "      <td>124418.000000</td>\n",
       "      <td>124418.000000</td>\n",
       "      <td>124418.000000</td>\n",
       "      <td>124418.000000</td>\n",
       "      <td>124418.000000</td>\n",
       "      <td>124418.000000</td>\n",
       "      <td>124418.000000</td>\n",
       "      <td>124418.000000</td>\n",
       "      <td>124418.000000</td>\n",
       "      <td>124418.000000</td>\n",
       "      <td>124418.000000</td>\n",
       "      <td>124418.000000</td>\n",
       "      <td>124418.000000</td>\n",
       "      <td>124418.000000</td>\n",
       "      <td>124418.000000</td>\n",
       "      <td>124418.000000</td>\n",
       "      <td>124418.000000</td>\n",
       "      <td>124418.000000</td>\n",
       "      <td>124418.000000</td>\n",
       "      <td>124418.000000</td>\n",
       "      <td>124418.000000</td>\n",
       "      <td>124418.000000</td>\n",
       "      <td>124418.000000</td>\n",
       "      <td>124418.000000</td>\n",
       "      <td>124418.000000</td>\n",
       "      <td>124418.000000</td>\n",
       "      <td>124418.000000</td>\n",
       "    </tr>\n",
       "    <tr>\n",
       "      <td>mean</td>\n",
       "      <td>193.659302</td>\n",
       "      <td>34.279670</td>\n",
       "      <td>15.989222</td>\n",
       "      <td>787.265167</td>\n",
       "      <td>244.055267</td>\n",
       "      <td>63.852009</td>\n",
       "      <td>0.083750</td>\n",
       "      <td>0.158594</td>\n",
       "      <td>0.480678</td>\n",
       "      <td>0.400199</td>\n",
       "      <td>0.079530</td>\n",
       "      <td>0.008295</td>\n",
       "      <td>0.008295</td>\n",
       "      <td>0.139787</td>\n",
       "      <td>0.108923</td>\n",
       "      <td>0.138967</td>\n",
       "      <td>0.007322</td>\n",
       "      <td>0.178616</td>\n",
       "      <td>0.007997</td>\n",
       "      <td>0.016083</td>\n",
       "      <td>0.013527</td>\n",
       "      <td>0.008753</td>\n",
       "      <td>0.003665</td>\n",
       "      <td>0.012619</td>\n",
       "      <td>0.005779</td>\n",
       "      <td>0.002757</td>\n",
       "      <td>0.060080</td>\n",
       "      <td>0.007732</td>\n",
       "      <td>0.005956</td>\n",
       "      <td>0.352746</td>\n",
       "      <td>0.289813</td>\n",
       "      <td>0.023405</td>\n",
       "      <td>0.003151</td>\n",
       "      <td>0.303525</td>\n",
       "      <td>0.181276</td>\n",
       "      <td>0.145710</td>\n",
       "      <td>0.369488</td>\n",
       "      <td>0.012249</td>\n",
       "      <td>0.008359</td>\n",
       "      <td>0.979392</td>\n",
       "      <td>0.838191</td>\n",
       "      <td>0.149263</td>\n",
       "      <td>0.012546</td>\n",
       "      <td>13.766666</td>\n",
       "      <td>116.387918</td>\n",
       "      <td>6.822614</td>\n",
       "    </tr>\n",
       "    <tr>\n",
       "      <td>std</td>\n",
       "      <td>363.009358</td>\n",
       "      <td>119.219999</td>\n",
       "      <td>34.200098</td>\n",
       "      <td>1357.546298</td>\n",
       "      <td>713.028899</td>\n",
       "      <td>27.133493</td>\n",
       "      <td>0.277014</td>\n",
       "      <td>0.365299</td>\n",
       "      <td>0.499629</td>\n",
       "      <td>0.489941</td>\n",
       "      <td>0.270566</td>\n",
       "      <td>0.090697</td>\n",
       "      <td>0.090697</td>\n",
       "      <td>0.346767</td>\n",
       "      <td>0.311544</td>\n",
       "      <td>0.345914</td>\n",
       "      <td>0.085256</td>\n",
       "      <td>0.383032</td>\n",
       "      <td>0.089069</td>\n",
       "      <td>0.125795</td>\n",
       "      <td>0.115517</td>\n",
       "      <td>0.093146</td>\n",
       "      <td>0.060429</td>\n",
       "      <td>0.111623</td>\n",
       "      <td>0.075799</td>\n",
       "      <td>0.052433</td>\n",
       "      <td>0.237635</td>\n",
       "      <td>0.087592</td>\n",
       "      <td>0.076944</td>\n",
       "      <td>0.477827</td>\n",
       "      <td>0.453677</td>\n",
       "      <td>0.151187</td>\n",
       "      <td>0.056043</td>\n",
       "      <td>0.459782</td>\n",
       "      <td>0.385248</td>\n",
       "      <td>0.352817</td>\n",
       "      <td>0.482668</td>\n",
       "      <td>0.109996</td>\n",
       "      <td>0.091045</td>\n",
       "      <td>0.142068</td>\n",
       "      <td>0.368277</td>\n",
       "      <td>0.356349</td>\n",
       "      <td>0.111306</td>\n",
       "      <td>25.249168</td>\n",
       "      <td>16.068680</td>\n",
       "      <td>3.450936</td>\n",
       "    </tr>\n",
       "    <tr>\n",
       "      <td>min</td>\n",
       "      <td>0.210000</td>\n",
       "      <td>1.000000</td>\n",
       "      <td>1.000000</td>\n",
       "      <td>93.580000</td>\n",
       "      <td>0.250000</td>\n",
       "      <td>0.000000</td>\n",
       "      <td>0.000000</td>\n",
       "      <td>0.000000</td>\n",
       "      <td>0.000000</td>\n",
       "      <td>0.000000</td>\n",
       "      <td>0.000000</td>\n",
       "      <td>0.000000</td>\n",
       "      <td>0.000000</td>\n",
       "      <td>0.000000</td>\n",
       "      <td>0.000000</td>\n",
       "      <td>0.000000</td>\n",
       "      <td>0.000000</td>\n",
       "      <td>0.000000</td>\n",
       "      <td>0.000000</td>\n",
       "      <td>0.000000</td>\n",
       "      <td>0.000000</td>\n",
       "      <td>0.000000</td>\n",
       "      <td>0.000000</td>\n",
       "      <td>0.000000</td>\n",
       "      <td>0.000000</td>\n",
       "      <td>0.000000</td>\n",
       "      <td>0.000000</td>\n",
       "      <td>0.000000</td>\n",
       "      <td>0.000000</td>\n",
       "      <td>0.000000</td>\n",
       "      <td>0.000000</td>\n",
       "      <td>0.000000</td>\n",
       "      <td>0.000000</td>\n",
       "      <td>0.000000</td>\n",
       "      <td>0.000000</td>\n",
       "      <td>0.000000</td>\n",
       "      <td>0.000000</td>\n",
       "      <td>0.000000</td>\n",
       "      <td>0.000000</td>\n",
       "      <td>0.000000</td>\n",
       "      <td>0.000000</td>\n",
       "      <td>0.000000</td>\n",
       "      <td>0.000000</td>\n",
       "      <td>0.000000</td>\n",
       "      <td>3.000000</td>\n",
       "      <td>1.000000</td>\n",
       "    </tr>\n",
       "    <tr>\n",
       "      <td>25%</td>\n",
       "      <td>50.000000</td>\n",
       "      <td>4.000000</td>\n",
       "      <td>2.000000</td>\n",
       "      <td>340.612500</td>\n",
       "      <td>35.850000</td>\n",
       "      <td>45.000000</td>\n",
       "      <td>0.000000</td>\n",
       "      <td>0.000000</td>\n",
       "      <td>0.000000</td>\n",
       "      <td>0.000000</td>\n",
       "      <td>0.000000</td>\n",
       "      <td>0.000000</td>\n",
       "      <td>0.000000</td>\n",
       "      <td>0.000000</td>\n",
       "      <td>0.000000</td>\n",
       "      <td>0.000000</td>\n",
       "      <td>0.000000</td>\n",
       "      <td>0.000000</td>\n",
       "      <td>0.000000</td>\n",
       "      <td>0.000000</td>\n",
       "      <td>0.000000</td>\n",
       "      <td>0.000000</td>\n",
       "      <td>0.000000</td>\n",
       "      <td>0.000000</td>\n",
       "      <td>0.000000</td>\n",
       "      <td>0.000000</td>\n",
       "      <td>0.000000</td>\n",
       "      <td>0.000000</td>\n",
       "      <td>0.000000</td>\n",
       "      <td>0.000000</td>\n",
       "      <td>0.000000</td>\n",
       "      <td>0.000000</td>\n",
       "      <td>0.000000</td>\n",
       "      <td>0.000000</td>\n",
       "      <td>0.000000</td>\n",
       "      <td>0.000000</td>\n",
       "      <td>0.000000</td>\n",
       "      <td>0.000000</td>\n",
       "      <td>0.000000</td>\n",
       "      <td>1.000000</td>\n",
       "      <td>1.000000</td>\n",
       "      <td>0.000000</td>\n",
       "      <td>0.000000</td>\n",
       "      <td>0.000000</td>\n",
       "      <td>118.000000</td>\n",
       "      <td>3.000000</td>\n",
       "    </tr>\n",
       "    <tr>\n",
       "      <td>50%</td>\n",
       "      <td>100.000000</td>\n",
       "      <td>10.000000</td>\n",
       "      <td>4.000000</td>\n",
       "      <td>545.520000</td>\n",
       "      <td>107.060000</td>\n",
       "      <td>73.000000</td>\n",
       "      <td>0.000000</td>\n",
       "      <td>0.000000</td>\n",
       "      <td>0.000000</td>\n",
       "      <td>0.000000</td>\n",
       "      <td>0.000000</td>\n",
       "      <td>0.000000</td>\n",
       "      <td>0.000000</td>\n",
       "      <td>0.000000</td>\n",
       "      <td>0.000000</td>\n",
       "      <td>0.000000</td>\n",
       "      <td>0.000000</td>\n",
       "      <td>0.000000</td>\n",
       "      <td>0.000000</td>\n",
       "      <td>0.000000</td>\n",
       "      <td>0.000000</td>\n",
       "      <td>0.000000</td>\n",
       "      <td>0.000000</td>\n",
       "      <td>0.000000</td>\n",
       "      <td>0.000000</td>\n",
       "      <td>0.000000</td>\n",
       "      <td>0.000000</td>\n",
       "      <td>0.000000</td>\n",
       "      <td>0.000000</td>\n",
       "      <td>0.000000</td>\n",
       "      <td>0.000000</td>\n",
       "      <td>0.000000</td>\n",
       "      <td>0.000000</td>\n",
       "      <td>0.000000</td>\n",
       "      <td>0.000000</td>\n",
       "      <td>0.000000</td>\n",
       "      <td>0.000000</td>\n",
       "      <td>0.000000</td>\n",
       "      <td>0.000000</td>\n",
       "      <td>1.000000</td>\n",
       "      <td>1.000000</td>\n",
       "      <td>0.000000</td>\n",
       "      <td>0.000000</td>\n",
       "      <td>3.000000</td>\n",
       "      <td>120.000000</td>\n",
       "      <td>8.000000</td>\n",
       "    </tr>\n",
       "    <tr>\n",
       "      <td>75%</td>\n",
       "      <td>200.000000</td>\n",
       "      <td>27.000000</td>\n",
       "      <td>13.000000</td>\n",
       "      <td>936.017500</td>\n",
       "      <td>279.000000</td>\n",
       "      <td>86.000000</td>\n",
       "      <td>0.000000</td>\n",
       "      <td>0.000000</td>\n",
       "      <td>1.000000</td>\n",
       "      <td>1.000000</td>\n",
       "      <td>0.000000</td>\n",
       "      <td>0.000000</td>\n",
       "      <td>0.000000</td>\n",
       "      <td>0.000000</td>\n",
       "      <td>0.000000</td>\n",
       "      <td>0.000000</td>\n",
       "      <td>0.000000</td>\n",
       "      <td>0.000000</td>\n",
       "      <td>0.000000</td>\n",
       "      <td>0.000000</td>\n",
       "      <td>0.000000</td>\n",
       "      <td>0.000000</td>\n",
       "      <td>0.000000</td>\n",
       "      <td>0.000000</td>\n",
       "      <td>0.000000</td>\n",
       "      <td>0.000000</td>\n",
       "      <td>0.000000</td>\n",
       "      <td>0.000000</td>\n",
       "      <td>0.000000</td>\n",
       "      <td>1.000000</td>\n",
       "      <td>1.000000</td>\n",
       "      <td>0.000000</td>\n",
       "      <td>0.000000</td>\n",
       "      <td>1.000000</td>\n",
       "      <td>0.000000</td>\n",
       "      <td>0.000000</td>\n",
       "      <td>1.000000</td>\n",
       "      <td>0.000000</td>\n",
       "      <td>0.000000</td>\n",
       "      <td>1.000000</td>\n",
       "      <td>1.000000</td>\n",
       "      <td>0.000000</td>\n",
       "      <td>0.000000</td>\n",
       "      <td>12.000000</td>\n",
       "      <td>121.000000</td>\n",
       "      <td>9.000000</td>\n",
       "    </tr>\n",
       "    <tr>\n",
       "      <td>max</td>\n",
       "      <td>25000.000000</td>\n",
       "      <td>12760.000000</td>\n",
       "      <td>426.000000</td>\n",
       "      <td>159711.520000</td>\n",
       "      <td>83939.980000</td>\n",
       "      <td>99.000000</td>\n",
       "      <td>1.000000</td>\n",
       "      <td>1.000000</td>\n",
       "      <td>1.000000</td>\n",
       "      <td>1.000000</td>\n",
       "      <td>1.000000</td>\n",
       "      <td>1.000000</td>\n",
       "      <td>1.000000</td>\n",
       "      <td>1.000000</td>\n",
       "      <td>1.000000</td>\n",
       "      <td>1.000000</td>\n",
       "      <td>1.000000</td>\n",
       "      <td>1.000000</td>\n",
       "      <td>1.000000</td>\n",
       "      <td>1.000000</td>\n",
       "      <td>1.000000</td>\n",
       "      <td>1.000000</td>\n",
       "      <td>1.000000</td>\n",
       "      <td>1.000000</td>\n",
       "      <td>1.000000</td>\n",
       "      <td>1.000000</td>\n",
       "      <td>1.000000</td>\n",
       "      <td>1.000000</td>\n",
       "      <td>1.000000</td>\n",
       "      <td>1.000000</td>\n",
       "      <td>1.000000</td>\n",
       "      <td>1.000000</td>\n",
       "      <td>1.000000</td>\n",
       "      <td>1.000000</td>\n",
       "      <td>1.000000</td>\n",
       "      <td>1.000000</td>\n",
       "      <td>1.000000</td>\n",
       "      <td>1.000000</td>\n",
       "      <td>1.000000</td>\n",
       "      <td>1.000000</td>\n",
       "      <td>1.000000</td>\n",
       "      <td>1.000000</td>\n",
       "      <td>1.000000</td>\n",
       "      <td>181.000000</td>\n",
       "      <td>486.000000</td>\n",
       "      <td>12.000000</td>\n",
       "    </tr>\n",
       "  </tbody>\n",
       "</table>\n",
       "</div>"
      ],
      "text/plain": [
       "       max_donation_amount  total_donations  teacher_project_posted_sequence  \\\n",
       "count        124418.000000    124418.000000                    124418.000000   \n",
       "mean            193.659302        34.279670                        15.989222   \n",
       "std             363.009358       119.219999                        34.200098   \n",
       "min               0.210000         1.000000                         1.000000   \n",
       "25%              50.000000         4.000000                         2.000000   \n",
       "50%             100.000000        10.000000                         4.000000   \n",
       "75%             200.000000        27.000000                        13.000000   \n",
       "max           25000.000000     12760.000000                       426.000000   \n",
       "\n",
       "        project_cost  resource_unit_price  school_percentage_free_lunch  \\\n",
       "count  124418.000000        124418.000000                 124418.000000   \n",
       "mean      787.265167           244.055267                     63.852009   \n",
       "std      1357.546298           713.028899                     27.133493   \n",
       "min        93.580000             0.250000                      0.000000   \n",
       "25%       340.612500            35.850000                     45.000000   \n",
       "50%       545.520000           107.060000                     73.000000   \n",
       "75%       936.017500           279.000000                     86.000000   \n",
       "max    159711.520000         83939.980000                     99.000000   \n",
       "\n",
       "       history_civics  project_status  literacy_language   math_science  \\\n",
       "count   124418.000000   124418.000000      124418.000000  124418.000000   \n",
       "mean         0.083750        0.158594           0.480678       0.400199   \n",
       "std          0.277014        0.365299           0.499629       0.489941   \n",
       "min          0.000000        0.000000           0.000000       0.000000   \n",
       "25%          0.000000        0.000000           0.000000       0.000000   \n",
       "50%          0.000000        0.000000           0.000000       0.000000   \n",
       "75%          0.000000        0.000000           1.000000       1.000000   \n",
       "max          1.000000        1.000000           1.000000       1.000000   \n",
       "\n",
       "       health_sports         warmth    care_hunger  music_the_arts  \\\n",
       "count  124418.000000  124418.000000  124418.000000   124418.000000   \n",
       "mean        0.079530       0.008295       0.008295        0.139787   \n",
       "std         0.270566       0.090697       0.090697        0.346767   \n",
       "min         0.000000       0.000000       0.000000        0.000000   \n",
       "25%         0.000000       0.000000       0.000000        0.000000   \n",
       "50%         0.000000       0.000000       0.000000        0.000000   \n",
       "75%         0.000000       0.000000       0.000000        0.000000   \n",
       "max         1.000000       1.000000       1.000000        1.000000   \n",
       "\n",
       "       special_needs  applied_learning   art_supplies          books  \\\n",
       "count  124418.000000     124418.000000  124418.000000  124418.000000   \n",
       "mean        0.108923          0.138967       0.007322       0.178616   \n",
       "std         0.311544          0.345914       0.085256       0.383032   \n",
       "min         0.000000          0.000000       0.000000       0.000000   \n",
       "25%         0.000000          0.000000       0.000000       0.000000   \n",
       "50%         0.000000          0.000000       0.000000       0.000000   \n",
       "75%         0.000000          0.000000       0.000000       0.000000   \n",
       "max         1.000000          1.000000       1.000000       1.000000   \n",
       "\n",
       "       classroom_basics  computers_tablets  educational_kits_games  \\\n",
       "count     124418.000000      124418.000000           124418.000000   \n",
       "mean           0.007997           0.016083                0.013527   \n",
       "std            0.089069           0.125795                0.115517   \n",
       "min            0.000000           0.000000                0.000000   \n",
       "25%            0.000000           0.000000                0.000000   \n",
       "50%            0.000000           0.000000                0.000000   \n",
       "75%            0.000000           0.000000                0.000000   \n",
       "max            1.000000           1.000000                1.000000   \n",
       "\n",
       "       flexible_seating  food,_clothing_hygiene  instructional_technology  \\\n",
       "count     124418.000000           124418.000000             124418.000000   \n",
       "mean           0.008753                0.003665                  0.012619   \n",
       "std            0.093146                0.060429                  0.111623   \n",
       "min            0.000000                0.000000                  0.000000   \n",
       "25%            0.000000                0.000000                  0.000000   \n",
       "50%            0.000000                0.000000                  0.000000   \n",
       "75%            0.000000                0.000000                  0.000000   \n",
       "max            1.000000                1.000000                  1.000000   \n",
       "\n",
       "       lab_equipment  musical_instruments          other  \\\n",
       "count  124418.000000        124418.000000  124418.000000   \n",
       "mean        0.005779             0.002757       0.060080   \n",
       "std         0.075799             0.052433       0.237635   \n",
       "min         0.000000             0.000000       0.000000   \n",
       "25%         0.000000             0.000000       0.000000   \n",
       "50%         0.000000             0.000000       0.000000   \n",
       "75%         0.000000             0.000000       0.000000   \n",
       "max         1.000000             1.000000       1.000000   \n",
       "\n",
       "       reading_nooks,_desks_storage  sports_exercise_equipment       supplies  \\\n",
       "count                 124418.000000              124418.000000  124418.000000   \n",
       "mean                       0.007732                   0.005956       0.352746   \n",
       "std                        0.087592                   0.076944       0.477827   \n",
       "min                        0.000000                   0.000000       0.000000   \n",
       "25%                        0.000000                   0.000000       0.000000   \n",
       "50%                        0.000000                   0.000000       0.000000   \n",
       "75%                        0.000000                   0.000000       1.000000   \n",
       "max                        1.000000                   1.000000       1.000000   \n",
       "\n",
       "          technology          trips       visitors     grades_3-5  \\\n",
       "count  124418.000000  124418.000000  124418.000000  124418.000000   \n",
       "mean        0.289813       0.023405       0.003151       0.303525   \n",
       "std         0.453677       0.151187       0.056043       0.459782   \n",
       "min         0.000000       0.000000       0.000000       0.000000   \n",
       "25%         0.000000       0.000000       0.000000       0.000000   \n",
       "50%         0.000000       0.000000       0.000000       0.000000   \n",
       "75%         1.000000       0.000000       0.000000       1.000000   \n",
       "max         1.000000       1.000000       1.000000       1.000000   \n",
       "\n",
       "          grades_6-8    grades_9-12  grades_prek-2  professional_development  \\\n",
       "count  124418.000000  124418.000000  124418.000000             124418.000000   \n",
       "mean        0.181276       0.145710       0.369488                  0.012249   \n",
       "std         0.385248       0.352817       0.482668                  0.109996   \n",
       "min         0.000000       0.000000       0.000000                  0.000000   \n",
       "25%         0.000000       0.000000       0.000000                  0.000000   \n",
       "50%         0.000000       0.000000       0.000000                  0.000000   \n",
       "75%         0.000000       0.000000       1.000000                  0.000000   \n",
       "max         1.000000       1.000000       1.000000                  1.000000   \n",
       "\n",
       "         student_led    teacher_led         female           male  \\\n",
       "count  124418.000000  124418.000000  124418.000000  124418.000000   \n",
       "mean        0.008359       0.979392       0.838191       0.149263   \n",
       "std         0.091045       0.142068       0.368277       0.356349   \n",
       "min         0.000000       0.000000       0.000000       0.000000   \n",
       "25%         0.000000       1.000000       1.000000       0.000000   \n",
       "50%         0.000000       1.000000       1.000000       0.000000   \n",
       "75%         0.000000       1.000000       1.000000       0.000000   \n",
       "max         1.000000       1.000000       1.000000       1.000000   \n",
       "\n",
       "             neutral  days_to_first_donation  days_duration_campaign  \\\n",
       "count  124418.000000           124418.000000           124418.000000   \n",
       "mean        0.012546               13.766666              116.387918   \n",
       "std         0.111306               25.249168               16.068680   \n",
       "min         0.000000                0.000000                3.000000   \n",
       "25%         0.000000                0.000000              118.000000   \n",
       "50%         0.000000                3.000000              120.000000   \n",
       "75%         0.000000               12.000000              121.000000   \n",
       "max         1.000000              181.000000              486.000000   \n",
       "\n",
       "       month_project_posted  \n",
       "count         124418.000000  \n",
       "mean               6.822614  \n",
       "std                3.450936  \n",
       "min                1.000000  \n",
       "25%                3.000000  \n",
       "50%                8.000000  \n",
       "75%                9.000000  \n",
       "max               12.000000  "
      ]
     },
     "execution_count": 4,
     "metadata": {},
     "output_type": "execute_result"
    }
   ],
   "source": [
    "ca_projects.describe()"
   ]
  },
  {
   "cell_type": "markdown",
   "metadata": {},
   "source": [
    "### Feature Scaling:"
   ]
  },
  {
   "cell_type": "code",
   "execution_count": 5,
   "metadata": {},
   "outputs": [
    {
     "data": {
      "text/plain": [
       "max_donation_amount                 9.386102\n",
       "total_donations                    11.700879\n",
       "teacher_project_posted_sequence    13.268177\n",
       "project_cost                        7.465158\n",
       "resource_unit_price                 7.178222\n",
       "days_to_first_donation             14.404668\n",
       "days_duration_campaign              9.665804\n",
       "dtype: float64"
      ]
     },
     "execution_count": 5,
     "metadata": {},
     "output_type": "execute_result"
    }
   ],
   "source": [
    "#test_scaling = ['max_donation_amount','total_donations','teacher_project_posted_sequence','project_cost','resource_unit_price days_to_first_donation','days_duration_campaign']\n",
    "test_scaling = ca_projects[['max_donation_amount','total_donations','teacher_project_posted_sequence','project_cost','resource_unit_price', 'days_to_first_donation','days_duration_campaign']]\n",
    "\n",
    "Q1 = test_scaling.quantile(0.25)\n",
    "Q3 = test_scaling.quantile(0.75)\n",
    "IQR = Q3 - Q1\n",
    "\n",
    "outliers = ((test_scaling < (Q1 - 1.5 * IQR)) | (test_scaling > (Q3 + 1.5 * IQR))).sum()\n",
    "outliers\n",
    "\n",
    "outlier_perc =  outliers * 100.0 / np.shape(test_scaling)[0]\n",
    "outlier_perc"
   ]
  },
  {
   "cell_type": "code",
   "execution_count": 6,
   "metadata": {},
   "outputs": [],
   "source": [
    "X = ca_projects[ca_projects.columns[ca_projects.columns!='project_status']].set_index('project_id')\n",
    "\n",
    "y = ca_projects[['project_status']]"
   ]
  },
  {
   "cell_type": "code",
   "execution_count": 7,
   "metadata": {},
   "outputs": [
    {
     "data": {
      "text/plain": [
       "Index(['max_donation_amount', 'total_donations',\n",
       "       'teacher_project_posted_sequence', 'project_cost',\n",
       "       'resource_unit_price', 'school_percentage_free_lunch', 'history_civics',\n",
       "       'literacy_language', 'math_science', 'health_sports', 'warmth',\n",
       "       'care_hunger', 'music_the_arts', 'special_needs', 'applied_learning',\n",
       "       'art_supplies', 'books', 'classroom_basics', 'computers_tablets',\n",
       "       'educational_kits_games', 'flexible_seating', 'food,_clothing_hygiene',\n",
       "       'instructional_technology', 'lab_equipment', 'musical_instruments',\n",
       "       'other', 'reading_nooks,_desks_storage', 'sports_exercise_equipment',\n",
       "       'supplies', 'technology', 'trips', 'visitors', 'grades_3-5',\n",
       "       'grades_6-8', 'grades_9-12', 'grades_prek-2',\n",
       "       'professional_development', 'student_led', 'teacher_led', 'female',\n",
       "       'male', 'neutral', 'days_to_first_donation', 'days_duration_campaign',\n",
       "       'month_project_posted'],\n",
       "      dtype='object')"
      ]
     },
     "execution_count": 7,
     "metadata": {},
     "output_type": "execute_result"
    }
   ],
   "source": [
    "X.columns"
   ]
  },
  {
   "cell_type": "code",
   "execution_count": 8,
   "metadata": {},
   "outputs": [],
   "source": [
    "X_norm = X.copy()"
   ]
  },
  {
   "cell_type": "code",
   "execution_count": 9,
   "metadata": {},
   "outputs": [],
   "source": [
    "X_standard = X.copy()"
   ]
  },
  {
   "cell_type": "code",
   "execution_count": 10,
   "metadata": {},
   "outputs": [],
   "source": [
    "from sklearn.preprocessing import Normalizer\n",
    "\n",
    "norm = Normalizer()\n",
    "X_norm[['max_donation_amount','total_donations','teacher_project_posted_sequence','project_cost','resource_unit_price', 'days_to_first_donation','days_duration_campaign']] = norm.fit_transform(X_norm[['max_donation_amount','total_donations','teacher_project_posted_sequence','project_cost','resource_unit_price', 'days_to_first_donation','days_duration_campaign']])\n"
   ]
  },
  {
   "cell_type": "code",
   "execution_count": 11,
   "metadata": {},
   "outputs": [
    {
     "data": {
      "text/html": [
       "<div>\n",
       "<style scoped>\n",
       "    .dataframe tbody tr th:only-of-type {\n",
       "        vertical-align: middle;\n",
       "    }\n",
       "\n",
       "    .dataframe tbody tr th {\n",
       "        vertical-align: top;\n",
       "    }\n",
       "\n",
       "    .dataframe thead th {\n",
       "        text-align: right;\n",
       "    }\n",
       "</style>\n",
       "<table border=\"1\" class=\"dataframe\">\n",
       "  <thead>\n",
       "    <tr style=\"text-align: right;\">\n",
       "      <th></th>\n",
       "      <th>max_donation_amount</th>\n",
       "      <th>total_donations</th>\n",
       "      <th>teacher_project_posted_sequence</th>\n",
       "      <th>project_cost</th>\n",
       "      <th>resource_unit_price</th>\n",
       "      <th>school_percentage_free_lunch</th>\n",
       "      <th>history_civics</th>\n",
       "      <th>literacy_language</th>\n",
       "      <th>math_science</th>\n",
       "      <th>health_sports</th>\n",
       "      <th>warmth</th>\n",
       "      <th>care_hunger</th>\n",
       "      <th>music_the_arts</th>\n",
       "      <th>special_needs</th>\n",
       "      <th>applied_learning</th>\n",
       "      <th>art_supplies</th>\n",
       "      <th>books</th>\n",
       "      <th>classroom_basics</th>\n",
       "      <th>computers_tablets</th>\n",
       "      <th>educational_kits_games</th>\n",
       "      <th>flexible_seating</th>\n",
       "      <th>food,_clothing_hygiene</th>\n",
       "      <th>instructional_technology</th>\n",
       "      <th>lab_equipment</th>\n",
       "      <th>musical_instruments</th>\n",
       "      <th>other</th>\n",
       "      <th>reading_nooks,_desks_storage</th>\n",
       "      <th>sports_exercise_equipment</th>\n",
       "      <th>supplies</th>\n",
       "      <th>technology</th>\n",
       "      <th>trips</th>\n",
       "      <th>visitors</th>\n",
       "      <th>grades_3-5</th>\n",
       "      <th>grades_6-8</th>\n",
       "      <th>grades_9-12</th>\n",
       "      <th>grades_prek-2</th>\n",
       "      <th>professional_development</th>\n",
       "      <th>student_led</th>\n",
       "      <th>teacher_led</th>\n",
       "      <th>female</th>\n",
       "      <th>male</th>\n",
       "      <th>neutral</th>\n",
       "      <th>days_to_first_donation</th>\n",
       "      <th>days_duration_campaign</th>\n",
       "      <th>month_project_posted</th>\n",
       "    </tr>\n",
       "    <tr>\n",
       "      <th>project_id</th>\n",
       "      <th></th>\n",
       "      <th></th>\n",
       "      <th></th>\n",
       "      <th></th>\n",
       "      <th></th>\n",
       "      <th></th>\n",
       "      <th></th>\n",
       "      <th></th>\n",
       "      <th></th>\n",
       "      <th></th>\n",
       "      <th></th>\n",
       "      <th></th>\n",
       "      <th></th>\n",
       "      <th></th>\n",
       "      <th></th>\n",
       "      <th></th>\n",
       "      <th></th>\n",
       "      <th></th>\n",
       "      <th></th>\n",
       "      <th></th>\n",
       "      <th></th>\n",
       "      <th></th>\n",
       "      <th></th>\n",
       "      <th></th>\n",
       "      <th></th>\n",
       "      <th></th>\n",
       "      <th></th>\n",
       "      <th></th>\n",
       "      <th></th>\n",
       "      <th></th>\n",
       "      <th></th>\n",
       "      <th></th>\n",
       "      <th></th>\n",
       "      <th></th>\n",
       "      <th></th>\n",
       "      <th></th>\n",
       "      <th></th>\n",
       "      <th></th>\n",
       "      <th></th>\n",
       "      <th></th>\n",
       "      <th></th>\n",
       "      <th></th>\n",
       "      <th></th>\n",
       "      <th></th>\n",
       "      <th></th>\n",
       "    </tr>\n",
       "  </thead>\n",
       "  <tbody>\n",
       "    <tr>\n",
       "      <td>00005454366b6b914f9a8290f18f4aed</td>\n",
       "      <td>0.156009</td>\n",
       "      <td>0.017239</td>\n",
       "      <td>0.005746</td>\n",
       "      <td>0.917780</td>\n",
       "      <td>0.100702</td>\n",
       "      <td>62.0</td>\n",
       "      <td>1</td>\n",
       "      <td>0</td>\n",
       "      <td>0</td>\n",
       "      <td>0</td>\n",
       "      <td>0</td>\n",
       "      <td>0</td>\n",
       "      <td>0</td>\n",
       "      <td>0</td>\n",
       "      <td>0</td>\n",
       "      <td>0</td>\n",
       "      <td>1</td>\n",
       "      <td>0</td>\n",
       "      <td>0</td>\n",
       "      <td>0</td>\n",
       "      <td>0</td>\n",
       "      <td>0</td>\n",
       "      <td>0</td>\n",
       "      <td>0</td>\n",
       "      <td>0</td>\n",
       "      <td>0</td>\n",
       "      <td>0</td>\n",
       "      <td>0</td>\n",
       "      <td>0</td>\n",
       "      <td>0</td>\n",
       "      <td>0</td>\n",
       "      <td>0</td>\n",
       "      <td>0</td>\n",
       "      <td>0</td>\n",
       "      <td>0</td>\n",
       "      <td>1</td>\n",
       "      <td>0</td>\n",
       "      <td>0</td>\n",
       "      <td>1</td>\n",
       "      <td>1</td>\n",
       "      <td>0</td>\n",
       "      <td>0</td>\n",
       "      <td>0.002873</td>\n",
       "      <td>0.350517</td>\n",
       "      <td>3</td>\n",
       "    </tr>\n",
       "    <tr>\n",
       "      <td>00006084c3d92d904a22e0a70f5c119a</td>\n",
       "      <td>0.424854</td>\n",
       "      <td>0.013977</td>\n",
       "      <td>0.095509</td>\n",
       "      <td>0.849708</td>\n",
       "      <td>0.076431</td>\n",
       "      <td>95.0</td>\n",
       "      <td>0</td>\n",
       "      <td>0</td>\n",
       "      <td>0</td>\n",
       "      <td>0</td>\n",
       "      <td>1</td>\n",
       "      <td>1</td>\n",
       "      <td>0</td>\n",
       "      <td>0</td>\n",
       "      <td>0</td>\n",
       "      <td>0</td>\n",
       "      <td>0</td>\n",
       "      <td>0</td>\n",
       "      <td>0</td>\n",
       "      <td>0</td>\n",
       "      <td>0</td>\n",
       "      <td>0</td>\n",
       "      <td>0</td>\n",
       "      <td>0</td>\n",
       "      <td>0</td>\n",
       "      <td>0</td>\n",
       "      <td>0</td>\n",
       "      <td>0</td>\n",
       "      <td>1</td>\n",
       "      <td>0</td>\n",
       "      <td>0</td>\n",
       "      <td>0</td>\n",
       "      <td>1</td>\n",
       "      <td>0</td>\n",
       "      <td>0</td>\n",
       "      <td>0</td>\n",
       "      <td>0</td>\n",
       "      <td>0</td>\n",
       "      <td>1</td>\n",
       "      <td>1</td>\n",
       "      <td>0</td>\n",
       "      <td>0</td>\n",
       "      <td>0.039601</td>\n",
       "      <td>0.284199</td>\n",
       "      <td>7</td>\n",
       "    </tr>\n",
       "    <tr>\n",
       "      <td>0001037c9aa509b21c47ef94822ae9c1</td>\n",
       "      <td>0.282487</td>\n",
       "      <td>0.012496</td>\n",
       "      <td>0.001562</td>\n",
       "      <td>0.766707</td>\n",
       "      <td>0.546621</td>\n",
       "      <td>92.0</td>\n",
       "      <td>0</td>\n",
       "      <td>0</td>\n",
       "      <td>1</td>\n",
       "      <td>0</td>\n",
       "      <td>0</td>\n",
       "      <td>0</td>\n",
       "      <td>0</td>\n",
       "      <td>0</td>\n",
       "      <td>0</td>\n",
       "      <td>0</td>\n",
       "      <td>0</td>\n",
       "      <td>0</td>\n",
       "      <td>0</td>\n",
       "      <td>0</td>\n",
       "      <td>0</td>\n",
       "      <td>0</td>\n",
       "      <td>0</td>\n",
       "      <td>0</td>\n",
       "      <td>0</td>\n",
       "      <td>0</td>\n",
       "      <td>0</td>\n",
       "      <td>0</td>\n",
       "      <td>1</td>\n",
       "      <td>0</td>\n",
       "      <td>0</td>\n",
       "      <td>0</td>\n",
       "      <td>0</td>\n",
       "      <td>1</td>\n",
       "      <td>0</td>\n",
       "      <td>0</td>\n",
       "      <td>0</td>\n",
       "      <td>0</td>\n",
       "      <td>1</td>\n",
       "      <td>1</td>\n",
       "      <td>0</td>\n",
       "      <td>0</td>\n",
       "      <td>0.003124</td>\n",
       "      <td>0.182754</td>\n",
       "      <td>1</td>\n",
       "    </tr>\n",
       "  </tbody>\n",
       "</table>\n",
       "</div>"
      ],
      "text/plain": [
       "                                  max_donation_amount  total_donations  \\\n",
       "project_id                                                               \n",
       "00005454366b6b914f9a8290f18f4aed             0.156009         0.017239   \n",
       "00006084c3d92d904a22e0a70f5c119a             0.424854         0.013977   \n",
       "0001037c9aa509b21c47ef94822ae9c1             0.282487         0.012496   \n",
       "\n",
       "                                  teacher_project_posted_sequence  \\\n",
       "project_id                                                          \n",
       "00005454366b6b914f9a8290f18f4aed                         0.005746   \n",
       "00006084c3d92d904a22e0a70f5c119a                         0.095509   \n",
       "0001037c9aa509b21c47ef94822ae9c1                         0.001562   \n",
       "\n",
       "                                  project_cost  resource_unit_price  \\\n",
       "project_id                                                            \n",
       "00005454366b6b914f9a8290f18f4aed      0.917780             0.100702   \n",
       "00006084c3d92d904a22e0a70f5c119a      0.849708             0.076431   \n",
       "0001037c9aa509b21c47ef94822ae9c1      0.766707             0.546621   \n",
       "\n",
       "                                  school_percentage_free_lunch  \\\n",
       "project_id                                                       \n",
       "00005454366b6b914f9a8290f18f4aed                          62.0   \n",
       "00006084c3d92d904a22e0a70f5c119a                          95.0   \n",
       "0001037c9aa509b21c47ef94822ae9c1                          92.0   \n",
       "\n",
       "                                  history_civics  literacy_language  \\\n",
       "project_id                                                            \n",
       "00005454366b6b914f9a8290f18f4aed               1                  0   \n",
       "00006084c3d92d904a22e0a70f5c119a               0                  0   \n",
       "0001037c9aa509b21c47ef94822ae9c1               0                  0   \n",
       "\n",
       "                                  math_science  health_sports  warmth  \\\n",
       "project_id                                                              \n",
       "00005454366b6b914f9a8290f18f4aed             0              0       0   \n",
       "00006084c3d92d904a22e0a70f5c119a             0              0       1   \n",
       "0001037c9aa509b21c47ef94822ae9c1             1              0       0   \n",
       "\n",
       "                                  care_hunger  music_the_arts  special_needs  \\\n",
       "project_id                                                                     \n",
       "00005454366b6b914f9a8290f18f4aed            0               0              0   \n",
       "00006084c3d92d904a22e0a70f5c119a            1               0              0   \n",
       "0001037c9aa509b21c47ef94822ae9c1            0               0              0   \n",
       "\n",
       "                                  applied_learning  art_supplies  books  \\\n",
       "project_id                                                                \n",
       "00005454366b6b914f9a8290f18f4aed                 0             0      1   \n",
       "00006084c3d92d904a22e0a70f5c119a                 0             0      0   \n",
       "0001037c9aa509b21c47ef94822ae9c1                 0             0      0   \n",
       "\n",
       "                                  classroom_basics  computers_tablets  \\\n",
       "project_id                                                              \n",
       "00005454366b6b914f9a8290f18f4aed                 0                  0   \n",
       "00006084c3d92d904a22e0a70f5c119a                 0                  0   \n",
       "0001037c9aa509b21c47ef94822ae9c1                 0                  0   \n",
       "\n",
       "                                  educational_kits_games  flexible_seating  \\\n",
       "project_id                                                                   \n",
       "00005454366b6b914f9a8290f18f4aed                       0                 0   \n",
       "00006084c3d92d904a22e0a70f5c119a                       0                 0   \n",
       "0001037c9aa509b21c47ef94822ae9c1                       0                 0   \n",
       "\n",
       "                                  food,_clothing_hygiene  \\\n",
       "project_id                                                 \n",
       "00005454366b6b914f9a8290f18f4aed                       0   \n",
       "00006084c3d92d904a22e0a70f5c119a                       0   \n",
       "0001037c9aa509b21c47ef94822ae9c1                       0   \n",
       "\n",
       "                                  instructional_technology  lab_equipment  \\\n",
       "project_id                                                                  \n",
       "00005454366b6b914f9a8290f18f4aed                         0              0   \n",
       "00006084c3d92d904a22e0a70f5c119a                         0              0   \n",
       "0001037c9aa509b21c47ef94822ae9c1                         0              0   \n",
       "\n",
       "                                  musical_instruments  other  \\\n",
       "project_id                                                     \n",
       "00005454366b6b914f9a8290f18f4aed                    0      0   \n",
       "00006084c3d92d904a22e0a70f5c119a                    0      0   \n",
       "0001037c9aa509b21c47ef94822ae9c1                    0      0   \n",
       "\n",
       "                                  reading_nooks,_desks_storage  \\\n",
       "project_id                                                       \n",
       "00005454366b6b914f9a8290f18f4aed                             0   \n",
       "00006084c3d92d904a22e0a70f5c119a                             0   \n",
       "0001037c9aa509b21c47ef94822ae9c1                             0   \n",
       "\n",
       "                                  sports_exercise_equipment  supplies  \\\n",
       "project_id                                                              \n",
       "00005454366b6b914f9a8290f18f4aed                          0         0   \n",
       "00006084c3d92d904a22e0a70f5c119a                          0         1   \n",
       "0001037c9aa509b21c47ef94822ae9c1                          0         1   \n",
       "\n",
       "                                  technology  trips  visitors  grades_3-5  \\\n",
       "project_id                                                                  \n",
       "00005454366b6b914f9a8290f18f4aed           0      0         0           0   \n",
       "00006084c3d92d904a22e0a70f5c119a           0      0         0           1   \n",
       "0001037c9aa509b21c47ef94822ae9c1           0      0         0           0   \n",
       "\n",
       "                                  grades_6-8  grades_9-12  grades_prek-2  \\\n",
       "project_id                                                                 \n",
       "00005454366b6b914f9a8290f18f4aed           0            0              1   \n",
       "00006084c3d92d904a22e0a70f5c119a           0            0              0   \n",
       "0001037c9aa509b21c47ef94822ae9c1           1            0              0   \n",
       "\n",
       "                                  professional_development  student_led  \\\n",
       "project_id                                                                \n",
       "00005454366b6b914f9a8290f18f4aed                         0            0   \n",
       "00006084c3d92d904a22e0a70f5c119a                         0            0   \n",
       "0001037c9aa509b21c47ef94822ae9c1                         0            0   \n",
       "\n",
       "                                  teacher_led  female  male  neutral  \\\n",
       "project_id                                                             \n",
       "00005454366b6b914f9a8290f18f4aed            1       1     0        0   \n",
       "00006084c3d92d904a22e0a70f5c119a            1       1     0        0   \n",
       "0001037c9aa509b21c47ef94822ae9c1            1       1     0        0   \n",
       "\n",
       "                                  days_to_first_donation  \\\n",
       "project_id                                                 \n",
       "00005454366b6b914f9a8290f18f4aed                0.002873   \n",
       "00006084c3d92d904a22e0a70f5c119a                0.039601   \n",
       "0001037c9aa509b21c47ef94822ae9c1                0.003124   \n",
       "\n",
       "                                  days_duration_campaign  month_project_posted  \n",
       "project_id                                                                      \n",
       "00005454366b6b914f9a8290f18f4aed                0.350517                     3  \n",
       "00006084c3d92d904a22e0a70f5c119a                0.284199                     7  \n",
       "0001037c9aa509b21c47ef94822ae9c1                0.182754                     1  "
      ]
     },
     "execution_count": 11,
     "metadata": {},
     "output_type": "execute_result"
    }
   ],
   "source": [
    "X_norm.head(3)"
   ]
  },
  {
   "cell_type": "markdown",
   "metadata": {},
   "source": [
    "### Resample:\n",
    "\n",
    "As the dataset is unbalanced (about 15% failed projects vs. 85% successfully funded projects), I need to resample it. Specifically, I will undersample the majority (successfully funded projects). "
   ]
  },
  {
   "cell_type": "code",
   "execution_count": 12,
   "metadata": {},
   "outputs": [],
   "source": [
    "from imblearn.under_sampling import RandomUnderSampler"
   ]
  },
  {
   "cell_type": "code",
   "execution_count": 13,
   "metadata": {},
   "outputs": [
    {
     "data": {
      "text/plain": [
       "0    104686\n",
       "1     19732\n",
       "Name: project_status, dtype: int64"
      ]
     },
     "execution_count": 13,
     "metadata": {},
     "output_type": "execute_result"
    }
   ],
   "source": [
    "y['project_status'].value_counts()"
   ]
  },
  {
   "cell_type": "code",
   "execution_count": 14,
   "metadata": {},
   "outputs": [],
   "source": [
    "rus = RandomUnderSampler(sampling_strategy=.35,random_state=0)\n",
    "X_resampled, y_resampled = rus.fit_resample(X_norm, y)\n",
    "#print(sorted(Counter(y_resampled).items()))\n"
   ]
  },
  {
   "cell_type": "code",
   "execution_count": 15,
   "metadata": {},
   "outputs": [
    {
     "name": "stdout",
     "output_type": "stream",
     "text": [
      "(76109, 1)\n"
     ]
    },
    {
     "data": {
      "text/plain": [
       "0    56377\n",
       "1    19732\n",
       "Name: project_status, dtype: int64"
      ]
     },
     "execution_count": 15,
     "metadata": {},
     "output_type": "execute_result"
    }
   ],
   "source": [
    "print(y_resampled.shape)\n",
    "y_resampled['project_status'].value_counts()"
   ]
  },
  {
   "cell_type": "code",
   "execution_count": 16,
   "metadata": {},
   "outputs": [
    {
     "data": {
      "text/plain": [
       "(76109, 45)"
      ]
     },
     "execution_count": 16,
     "metadata": {},
     "output_type": "execute_result"
    }
   ],
   "source": [
    "X_resampled.shape"
   ]
  },
  {
   "cell_type": "code",
   "execution_count": 17,
   "metadata": {},
   "outputs": [
    {
     "name": "stdout",
     "output_type": "stream",
     "text": [
      "The percentage of projects that did not meet their goal before the deadline is: 25.925974589076194 %\n"
     ]
    }
   ],
   "source": [
    "filtered = y_resampled.loc[y_resampled['project_status']==1]\n",
    "percentage_expired_projects = (len(filtered)/len(y_resampled))*100\n",
    "print(\"The percentage of projects that did not meet their goal before the deadline is:\", percentage_expired_projects,\"%\")"
   ]
  },
  {
   "cell_type": "code",
   "execution_count": 18,
   "metadata": {},
   "outputs": [],
   "source": [
    "y_resampled = y_resampled[['project_status']].values\n",
    "y_resampled = y_resampled.ravel()"
   ]
  },
  {
   "cell_type": "markdown",
   "metadata": {},
   "source": [
    "That seems like a better distribution to work with."
   ]
  },
  {
   "cell_type": "markdown",
   "metadata": {},
   "source": [
    "## K-Nearest Neighbours:"
   ]
  },
  {
   "cell_type": "code",
   "execution_count": 19,
   "metadata": {},
   "outputs": [],
   "source": [
    "from sklearn.metrics import f1_score\n",
    "from sklearn.metrics import recall_score\n",
    "from sklearn.metrics import precision_score\n",
    "from sklearn.metrics import confusion_matrix\n",
    "\n",
    "def performance_metric(y_true, y_pred):\n",
    "    score_f1 = f1_score(y_true, y_pred)\n",
    "    score_recall = recall_score(y_true, y_pred)\n",
    "    score_precision = precision_score(y_true, y_pred)\n",
    "    print('f1_score:',score_f1, 'recall_score:', score_recall,'precision_score:', score_precision)\n"
   ]
  },
  {
   "cell_type": "code",
   "execution_count": 20,
   "metadata": {},
   "outputs": [],
   "source": [
    "from sklearn.model_selection import train_test_split"
   ]
  },
  {
   "cell_type": "code",
   "execution_count": 21,
   "metadata": {},
   "outputs": [],
   "source": [
    "X_train, X_test, y_train, y_test = train_test_split(X_resampled, y_resampled, test_size=0.20)"
   ]
  },
  {
   "cell_type": "code",
   "execution_count": 22,
   "metadata": {},
   "outputs": [],
   "source": [
    "from sklearn.neighbors import KNeighborsClassifier\n",
    "from sklearn.cluster import KMeans"
   ]
  },
  {
   "cell_type": "code",
   "execution_count": 23,
   "metadata": {},
   "outputs": [],
   "source": [
    "Sum_of_squared_distances = []\n",
    "K = range(1,15)\n",
    "for k in K:\n",
    "    km = KMeans(n_clusters=k)\n",
    "    km = km.fit(X_train)\n",
    "    Sum_of_squared_distances.append(km.inertia_)"
   ]
  },
  {
   "cell_type": "code",
   "execution_count": 24,
   "metadata": {},
   "outputs": [
    {
     "data": {
      "image/png": "[encoded data removed]",
      "text/plain": [
       "<Figure size 432x288 with 1 Axes>"
      ]
     },
     "metadata": {
      "needs_background": "light"
     },
     "output_type": "display_data"
    }
   ],
   "source": [
    "import matplotlib.pyplot as plt\n",
    "%matplotlib inline\n",
    "\n",
    "plt.plot(K, Sum_of_squared_distances, 'bx-')\n",
    "plt.xlabel('k')\n",
    "plt.ylabel('Sum_of_squared_distances')\n",
    "plt.title('Elbow Method For Optimal k')\n",
    "plt.show()"
   ]
  },
  {
   "cell_type": "code",
   "execution_count": 25,
   "metadata": {},
   "outputs": [
    {
     "data": {
      "text/plain": [
       "KNeighborsClassifier(algorithm='auto', leaf_size=30, metric='minkowski',\n",
       "                     metric_params=None, n_jobs=None, n_neighbors=2, p=2,\n",
       "                     weights='uniform')"
      ]
     },
     "execution_count": 25,
     "metadata": {},
     "output_type": "execute_result"
    }
   ],
   "source": [
    "# Seems like it could be 2 or 3? \n",
    "\n",
    "neigh = KNeighborsClassifier(n_neighbors=2)\n",
    "neigh.fit(X_train, y_train)"
   ]
  },
  {
   "cell_type": "code",
   "execution_count": 26,
   "metadata": {},
   "outputs": [
    {
     "name": "stdout",
     "output_type": "stream",
     "text": [
      "f1_score: 0.2361472666418743 recall_score: 0.15871032241939514 precision_score: 0.46114742193173563\n",
      "None\n"
     ]
    }
   ],
   "source": [
    "y_pred = neigh.predict(X_test)\n",
    "\n",
    "print(performance_metric(y_test,y_pred))"
   ]
  },
  {
   "cell_type": "code",
   "execution_count": 27,
   "metadata": {},
   "outputs": [
    {
     "name": "stdout",
     "output_type": "stream",
     "text": [
      "f1_score: 0.3663211699559847 recall_score: 0.3224193951512122 precision_score: 0.4240631163708087\n",
      "None\n"
     ]
    }
   ],
   "source": [
    "neigh_3 = KNeighborsClassifier(n_neighbors=3)\n",
    "neigh_3.fit(X_train, y_train)\n",
    "\n",
    "y_pred = neigh_3.predict(X_test)\n",
    "\n",
    "print(performance_metric(y_test,y_pred))"
   ]
  },
  {
   "cell_type": "code",
   "execution_count": 28,
   "metadata": {},
   "outputs": [
    {
     "name": "stdout",
     "output_type": "stream",
     "text": [
      "f1_score: 0.34528593508500777 recall_score: 0.27918020494876283 precision_score: 0.4524098825435399\n",
      "None\n"
     ]
    }
   ],
   "source": [
    "neigh_5 = KNeighborsClassifier(n_neighbors=5)\n",
    "neigh_5.fit(X_train, y_train)\n",
    "\n",
    "y_pred = neigh_5.predict(X_test)\n",
    "\n",
    "print(performance_metric(y_test,y_pred))"
   ]
  },
  {
   "cell_type": "markdown",
   "metadata": {},
   "source": [
    "### Random Forest:"
   ]
  },
  {
   "cell_type": "code",
   "execution_count": 29,
   "metadata": {},
   "outputs": [],
   "source": [
    "from sklearn.ensemble import RandomForestRegressor\n",
    "from sklearn.metrics import r2_score\n",
    "\n",
    "depths = [2, 4, 6, 8, 10, 12]\n",
    "train_result = []\n",
    "test_result = []\n",
    "\n",
    "for i, depth in enumerate(depths):\n",
    "    RFR = RandomForestRegressor(n_estimators=10, max_depth = depth)\n",
    "    RFR.fit(X_train, y_train)\n",
    "    train_pred = RFR.predict(X_train)\n",
    "    score_train = r2_score(y_train, train_pred)\n",
    "    train_result.append(score_train)\n",
    "    \n",
    "    y_pred = RFR.predict(X_test)\n",
    "    score_test = r2_score(y_test, y_pred)\n",
    "    test_result.append(score_test)"
   ]
  },
  {
   "cell_type": "code",
   "execution_count": 30,
   "metadata": {},
   "outputs": [
    {
     "data": {
      "image/png": "[encoded data removed]",
      "text/plain": [
       "<Figure size 432x288 with 1 Axes>"
      ]
     },
     "metadata": {},
     "output_type": "display_data"
    }
   ],
   "source": [
    "import seaborn as sns \n",
    "\n",
    "sns.set(font_scale = 1)\n",
    "plot_df = pd.DataFrame({'test score': test_result,\n",
    "                   'train score': train_result}, index=depths)\n",
    "ax = plot_df.plot.bar(rot=0)"
   ]
  },
  {
   "cell_type": "code",
   "execution_count": 31,
   "metadata": {},
   "outputs": [
    {
     "name": "stdout",
     "output_type": "stream",
     "text": [
      "0.5000638857739973\n"
     ]
    }
   ],
   "source": [
    "RFR_8 = RandomForestRegressor(n_estimators=10, max_depth = 8)\n",
    "RFR_8.fit(X_train, y_train)\n",
    "train_pred_8 = RFR_8.predict(X_train)\n",
    "score_train_8 = r2_score(y_train, train_pred_8)   \n",
    "y_pred_8 = RFR_8.predict(X_test)\n",
    "score_test_8 = r2_score(y_test, y_pred_8)\n",
    "print(score_test_8)"
   ]
  },
  {
   "cell_type": "code",
   "execution_count": 32,
   "metadata": {},
   "outputs": [
    {
     "name": "stdout",
     "output_type": "stream",
     "text": [
      "0.5068530654662856\n"
     ]
    }
   ],
   "source": [
    "RFR_10 = RandomForestRegressor(n_estimators=10, max_depth = 10)\n",
    "RFR_10.fit(X_train, y_train)\n",
    "train_pred_10 = RFR_10.predict(X_train)\n",
    "score_train_10 = r2_score(y_train, train_pred_10)   \n",
    "y_pred_10 = RFR_10.predict(X_test)\n",
    "score_test_10 = r2_score(y_test, y_pred_10)\n",
    "print(score_test_10)"
   ]
  },
  {
   "cell_type": "markdown",
   "metadata": {},
   "source": [
    "### LogReg:"
   ]
  },
  {
   "cell_type": "code",
   "execution_count": 33,
   "metadata": {},
   "outputs": [
    {
     "data": {
      "text/plain": [
       "LogisticRegression(C=1.0, class_weight=None, dual=False, fit_intercept=True,\n",
       "                   intercept_scaling=1, l1_ratio=None, max_iter=100,\n",
       "                   multi_class='auto', n_jobs=None, penalty='l2',\n",
       "                   random_state=0, solver='liblinear', tol=0.0001, verbose=0,\n",
       "                   warm_start=False)"
      ]
     },
     "execution_count": 33,
     "metadata": {},
     "output_type": "execute_result"
    }
   ],
   "source": [
    "from sklearn.linear_model import LogisticRegression\n",
    "\n",
    "logreg = LogisticRegression(solver='liblinear',random_state=0)\n",
    "\n",
    "logreg.fit(X_train,y_train)"
   ]
  },
  {
   "cell_type": "code",
   "execution_count": 34,
   "metadata": {},
   "outputs": [
    {
     "name": "stdout",
     "output_type": "stream",
     "text": [
      "[[10144  1077]\n",
      " [ 1247  2754]]\n"
     ]
    },
    {
     "data": {
      "text/plain": [
       "0.8473262383392458"
      ]
     },
     "execution_count": 34,
     "metadata": {},
     "output_type": "execute_result"
    }
   ],
   "source": [
    "from sklearn.metrics import accuracy_score\n",
    "y_pred_log = logreg.predict(X_test)\n",
    "print(confusion_matrix(y_test, y_pred_log))\n",
    "\n",
    "accuracy_score(y_test, y_pred_log) #WHAT"
   ]
  },
  {
   "cell_type": "code",
   "execution_count": 35,
   "metadata": {},
   "outputs": [
    {
     "name": "stdout",
     "output_type": "stream",
     "text": [
      "0.6883279180204949\n",
      "0.7032686414708886\n"
     ]
    }
   ],
   "source": [
    "recall = recall_score(y_test, y_pred_log)\n",
    "print(recall)\n",
    "\n",
    "f1 = f1_score(y_test, y_pred_log)\n",
    "print(f1)"
   ]
  },
  {
   "cell_type": "code",
   "execution_count": 36,
   "metadata": {},
   "outputs": [
    {
     "name": "stdout",
     "output_type": "stream",
     "text": [
      "[0.         0.09598075 1.        ] [0.         0.68832792 1.        ] [2 1 0]\n"
     ]
    },
    {
     "data": {
      "image/png": "[encoded data removed]",
      "text/plain": [
       "<Figure size 432x288 with 1 Axes>"
      ]
     },
     "metadata": {},
     "output_type": "display_data"
    }
   ],
   "source": [
    "from sklearn import metrics\n",
    "\n",
    "fpr, tpr, thresholds = metrics.roc_curve(y_test, y_pred_log, pos_label=1)\n",
    "print(fpr, tpr, thresholds)\n",
    "\n",
    "plt.plot(fpr,tpr,label=\"logreg predict\")\n",
    "plt.legend(loc=4)\n",
    "plt.show()"
   ]
  },
  {
   "cell_type": "markdown",
   "metadata": {},
   "source": [
    "## Using k-1 data:"
   ]
  },
  {
   "cell_type": "code",
   "execution_count": 37,
   "metadata": {},
   "outputs": [],
   "source": [
    "ca_projects_k1 = pd.read_csv('data/ca_projects_model_k1.csv')"
   ]
  },
  {
   "cell_type": "code",
   "execution_count": 38,
   "metadata": {},
   "outputs": [],
   "source": [
    "ca_projects_k1.drop(['donation_received_date','project_posted_date','project_expiration_date'], axis=1, inplace=True)"
   ]
  },
  {
   "cell_type": "code",
   "execution_count": 39,
   "metadata": {},
   "outputs": [
    {
     "data": {
      "text/html": [
       "<div>\n",
       "<style scoped>\n",
       "    .dataframe tbody tr th:only-of-type {\n",
       "        vertical-align: middle;\n",
       "    }\n",
       "\n",
       "    .dataframe tbody tr th {\n",
       "        vertical-align: top;\n",
       "    }\n",
       "\n",
       "    .dataframe thead th {\n",
       "        text-align: right;\n",
       "    }\n",
       "</style>\n",
       "<table border=\"1\" class=\"dataframe\">\n",
       "  <thead>\n",
       "    <tr style=\"text-align: right;\">\n",
       "      <th></th>\n",
       "      <th>max_donation_amount</th>\n",
       "      <th>total_donations</th>\n",
       "      <th>teacher_project_posted_sequence</th>\n",
       "      <th>project_cost</th>\n",
       "      <th>resource_unit_price</th>\n",
       "      <th>school_percentage_free_lunch</th>\n",
       "      <th>care_hunger</th>\n",
       "      <th>health_sports</th>\n",
       "      <th>special_needs</th>\n",
       "      <th>math_science</th>\n",
       "      <th>music_the_arts</th>\n",
       "      <th>literacy_language</th>\n",
       "      <th>applied_learning</th>\n",
       "      <th>warmth</th>\n",
       "      <th>history_civics</th>\n",
       "      <th>books</th>\n",
       "      <th>classroom_basics</th>\n",
       "      <th>computers_tablets</th>\n",
       "      <th>educational_kits_games</th>\n",
       "      <th>flexible_seating</th>\n",
       "      <th>food,_clothing_hygiene</th>\n",
       "      <th>instructional_technology</th>\n",
       "      <th>lab_equipment</th>\n",
       "      <th>musical_instruments</th>\n",
       "      <th>other</th>\n",
       "      <th>reading_nooks,_desks_storage</th>\n",
       "      <th>sports_exercise_equipment</th>\n",
       "      <th>supplies</th>\n",
       "      <th>technology</th>\n",
       "      <th>trips</th>\n",
       "      <th>visitors</th>\n",
       "      <th>grades_6_8</th>\n",
       "      <th>grades_9_12</th>\n",
       "      <th>grades_prek_2</th>\n",
       "      <th>student_led</th>\n",
       "      <th>teacher_led</th>\n",
       "      <th>male</th>\n",
       "      <th>neutral</th>\n",
       "      <th>suburban</th>\n",
       "      <th>town</th>\n",
       "      <th>unknown</th>\n",
       "      <th>urban</th>\n",
       "      <th>project_status</th>\n",
       "      <th>days_to_first_donation</th>\n",
       "      <th>days_duration_campaign</th>\n",
       "      <th>month_project_posted</th>\n",
       "    </tr>\n",
       "  </thead>\n",
       "  <tbody>\n",
       "    <tr>\n",
       "      <td>count</td>\n",
       "      <td>123030.000000</td>\n",
       "      <td>123030.000000</td>\n",
       "      <td>123030.000000</td>\n",
       "      <td>123030.000000</td>\n",
       "      <td>123030.000000</td>\n",
       "      <td>123030.000000</td>\n",
       "      <td>123030.000000</td>\n",
       "      <td>123030.000000</td>\n",
       "      <td>123030.000000</td>\n",
       "      <td>123030.000000</td>\n",
       "      <td>123030.000000</td>\n",
       "      <td>123030.000000</td>\n",
       "      <td>123030.000000</td>\n",
       "      <td>123030.000000</td>\n",
       "      <td>123030.000000</td>\n",
       "      <td>123030.000000</td>\n",
       "      <td>123030.000000</td>\n",
       "      <td>123030.000000</td>\n",
       "      <td>123030.000000</td>\n",
       "      <td>123030.000000</td>\n",
       "      <td>123030.000000</td>\n",
       "      <td>123030.000000</td>\n",
       "      <td>123030.000000</td>\n",
       "      <td>123030.000000</td>\n",
       "      <td>123030.000000</td>\n",
       "      <td>123030.000000</td>\n",
       "      <td>123030.000000</td>\n",
       "      <td>123030.000000</td>\n",
       "      <td>123030.000000</td>\n",
       "      <td>123030.000000</td>\n",
       "      <td>123030.00000</td>\n",
       "      <td>123030.000000</td>\n",
       "      <td>123030.000000</td>\n",
       "      <td>123030.000000</td>\n",
       "      <td>123030.000000</td>\n",
       "      <td>123030.000000</td>\n",
       "      <td>123030.000000</td>\n",
       "      <td>123030.000000</td>\n",
       "      <td>123030.000000</td>\n",
       "      <td>123030.000000</td>\n",
       "      <td>123030.000000</td>\n",
       "      <td>123030.000000</td>\n",
       "      <td>123030.000000</td>\n",
       "      <td>123030.000000</td>\n",
       "      <td>123030.000000</td>\n",
       "      <td>123030.000000</td>\n",
       "    </tr>\n",
       "    <tr>\n",
       "      <td>mean</td>\n",
       "      <td>193.218674</td>\n",
       "      <td>34.432634</td>\n",
       "      <td>16.155279</td>\n",
       "      <td>787.487884</td>\n",
       "      <td>244.952715</td>\n",
       "      <td>63.893006</td>\n",
       "      <td>0.008315</td>\n",
       "      <td>0.079420</td>\n",
       "      <td>0.108299</td>\n",
       "      <td>0.400244</td>\n",
       "      <td>0.139998</td>\n",
       "      <td>0.481354</td>\n",
       "      <td>0.138454</td>\n",
       "      <td>0.008315</td>\n",
       "      <td>0.084069</td>\n",
       "      <td>0.277566</td>\n",
       "      <td>0.013688</td>\n",
       "      <td>0.024327</td>\n",
       "      <td>0.023937</td>\n",
       "      <td>0.015086</td>\n",
       "      <td>0.006064</td>\n",
       "      <td>0.018654</td>\n",
       "      <td>0.009981</td>\n",
       "      <td>0.004365</td>\n",
       "      <td>0.085630</td>\n",
       "      <td>0.013102</td>\n",
       "      <td>0.010136</td>\n",
       "      <td>0.478802</td>\n",
       "      <td>0.323937</td>\n",
       "      <td>0.029221</td>\n",
       "      <td>0.00382</td>\n",
       "      <td>0.212282</td>\n",
       "      <td>0.133211</td>\n",
       "      <td>0.425766</td>\n",
       "      <td>0.008356</td>\n",
       "      <td>0.979371</td>\n",
       "      <td>0.149378</td>\n",
       "      <td>0.012143</td>\n",
       "      <td>0.365464</td>\n",
       "      <td>0.026579</td>\n",
       "      <td>0.040803</td>\n",
       "      <td>0.547866</td>\n",
       "      <td>0.158026</td>\n",
       "      <td>13.744420</td>\n",
       "      <td>116.387987</td>\n",
       "      <td>6.822954</td>\n",
       "    </tr>\n",
       "    <tr>\n",
       "      <td>std</td>\n",
       "      <td>362.602635</td>\n",
       "      <td>119.898162</td>\n",
       "      <td>34.359540</td>\n",
       "      <td>1364.117859</td>\n",
       "      <td>718.486736</td>\n",
       "      <td>27.147252</td>\n",
       "      <td>0.090807</td>\n",
       "      <td>0.270394</td>\n",
       "      <td>0.310759</td>\n",
       "      <td>0.489950</td>\n",
       "      <td>0.346987</td>\n",
       "      <td>0.499654</td>\n",
       "      <td>0.345377</td>\n",
       "      <td>0.090807</td>\n",
       "      <td>0.277492</td>\n",
       "      <td>0.447800</td>\n",
       "      <td>0.116192</td>\n",
       "      <td>0.154064</td>\n",
       "      <td>0.152854</td>\n",
       "      <td>0.121895</td>\n",
       "      <td>0.077633</td>\n",
       "      <td>0.135300</td>\n",
       "      <td>0.099407</td>\n",
       "      <td>0.065922</td>\n",
       "      <td>0.279817</td>\n",
       "      <td>0.113714</td>\n",
       "      <td>0.100165</td>\n",
       "      <td>0.499552</td>\n",
       "      <td>0.467978</td>\n",
       "      <td>0.168425</td>\n",
       "      <td>0.06169</td>\n",
       "      <td>0.408925</td>\n",
       "      <td>0.339804</td>\n",
       "      <td>0.494461</td>\n",
       "      <td>0.091027</td>\n",
       "      <td>0.142140</td>\n",
       "      <td>0.356462</td>\n",
       "      <td>0.109526</td>\n",
       "      <td>0.481562</td>\n",
       "      <td>0.160850</td>\n",
       "      <td>0.197834</td>\n",
       "      <td>0.497706</td>\n",
       "      <td>0.364767</td>\n",
       "      <td>25.289826</td>\n",
       "      <td>16.156180</td>\n",
       "      <td>3.450913</td>\n",
       "    </tr>\n",
       "    <tr>\n",
       "      <td>min</td>\n",
       "      <td>0.210000</td>\n",
       "      <td>1.000000</td>\n",
       "      <td>1.000000</td>\n",
       "      <td>93.580000</td>\n",
       "      <td>0.250000</td>\n",
       "      <td>0.000000</td>\n",
       "      <td>0.000000</td>\n",
       "      <td>0.000000</td>\n",
       "      <td>0.000000</td>\n",
       "      <td>0.000000</td>\n",
       "      <td>0.000000</td>\n",
       "      <td>0.000000</td>\n",
       "      <td>0.000000</td>\n",
       "      <td>0.000000</td>\n",
       "      <td>0.000000</td>\n",
       "      <td>0.000000</td>\n",
       "      <td>0.000000</td>\n",
       "      <td>0.000000</td>\n",
       "      <td>0.000000</td>\n",
       "      <td>0.000000</td>\n",
       "      <td>0.000000</td>\n",
       "      <td>0.000000</td>\n",
       "      <td>0.000000</td>\n",
       "      <td>0.000000</td>\n",
       "      <td>0.000000</td>\n",
       "      <td>0.000000</td>\n",
       "      <td>0.000000</td>\n",
       "      <td>0.000000</td>\n",
       "      <td>0.000000</td>\n",
       "      <td>0.000000</td>\n",
       "      <td>0.00000</td>\n",
       "      <td>0.000000</td>\n",
       "      <td>0.000000</td>\n",
       "      <td>0.000000</td>\n",
       "      <td>0.000000</td>\n",
       "      <td>0.000000</td>\n",
       "      <td>0.000000</td>\n",
       "      <td>0.000000</td>\n",
       "      <td>0.000000</td>\n",
       "      <td>0.000000</td>\n",
       "      <td>0.000000</td>\n",
       "      <td>0.000000</td>\n",
       "      <td>0.000000</td>\n",
       "      <td>-254.000000</td>\n",
       "      <td>-242.000000</td>\n",
       "      <td>1.000000</td>\n",
       "    </tr>\n",
       "    <tr>\n",
       "      <td>25%</td>\n",
       "      <td>50.000000</td>\n",
       "      <td>4.000000</td>\n",
       "      <td>2.000000</td>\n",
       "      <td>340.082500</td>\n",
       "      <td>35.750000</td>\n",
       "      <td>45.000000</td>\n",
       "      <td>0.000000</td>\n",
       "      <td>0.000000</td>\n",
       "      <td>0.000000</td>\n",
       "      <td>0.000000</td>\n",
       "      <td>0.000000</td>\n",
       "      <td>0.000000</td>\n",
       "      <td>0.000000</td>\n",
       "      <td>0.000000</td>\n",
       "      <td>0.000000</td>\n",
       "      <td>0.000000</td>\n",
       "      <td>0.000000</td>\n",
       "      <td>0.000000</td>\n",
       "      <td>0.000000</td>\n",
       "      <td>0.000000</td>\n",
       "      <td>0.000000</td>\n",
       "      <td>0.000000</td>\n",
       "      <td>0.000000</td>\n",
       "      <td>0.000000</td>\n",
       "      <td>0.000000</td>\n",
       "      <td>0.000000</td>\n",
       "      <td>0.000000</td>\n",
       "      <td>0.000000</td>\n",
       "      <td>0.000000</td>\n",
       "      <td>0.000000</td>\n",
       "      <td>0.00000</td>\n",
       "      <td>0.000000</td>\n",
       "      <td>0.000000</td>\n",
       "      <td>0.000000</td>\n",
       "      <td>0.000000</td>\n",
       "      <td>1.000000</td>\n",
       "      <td>0.000000</td>\n",
       "      <td>0.000000</td>\n",
       "      <td>0.000000</td>\n",
       "      <td>0.000000</td>\n",
       "      <td>0.000000</td>\n",
       "      <td>0.000000</td>\n",
       "      <td>0.000000</td>\n",
       "      <td>0.000000</td>\n",
       "      <td>118.000000</td>\n",
       "      <td>3.000000</td>\n",
       "    </tr>\n",
       "    <tr>\n",
       "      <td>50%</td>\n",
       "      <td>100.000000</td>\n",
       "      <td>10.000000</td>\n",
       "      <td>4.000000</td>\n",
       "      <td>544.930000</td>\n",
       "      <td>107.060000</td>\n",
       "      <td>73.000000</td>\n",
       "      <td>0.000000</td>\n",
       "      <td>0.000000</td>\n",
       "      <td>0.000000</td>\n",
       "      <td>0.000000</td>\n",
       "      <td>0.000000</td>\n",
       "      <td>0.000000</td>\n",
       "      <td>0.000000</td>\n",
       "      <td>0.000000</td>\n",
       "      <td>0.000000</td>\n",
       "      <td>0.000000</td>\n",
       "      <td>0.000000</td>\n",
       "      <td>0.000000</td>\n",
       "      <td>0.000000</td>\n",
       "      <td>0.000000</td>\n",
       "      <td>0.000000</td>\n",
       "      <td>0.000000</td>\n",
       "      <td>0.000000</td>\n",
       "      <td>0.000000</td>\n",
       "      <td>0.000000</td>\n",
       "      <td>0.000000</td>\n",
       "      <td>0.000000</td>\n",
       "      <td>0.000000</td>\n",
       "      <td>0.000000</td>\n",
       "      <td>0.000000</td>\n",
       "      <td>0.00000</td>\n",
       "      <td>0.000000</td>\n",
       "      <td>0.000000</td>\n",
       "      <td>0.000000</td>\n",
       "      <td>0.000000</td>\n",
       "      <td>1.000000</td>\n",
       "      <td>0.000000</td>\n",
       "      <td>0.000000</td>\n",
       "      <td>0.000000</td>\n",
       "      <td>0.000000</td>\n",
       "      <td>0.000000</td>\n",
       "      <td>1.000000</td>\n",
       "      <td>0.000000</td>\n",
       "      <td>3.000000</td>\n",
       "      <td>120.000000</td>\n",
       "      <td>8.000000</td>\n",
       "    </tr>\n",
       "    <tr>\n",
       "      <td>75%</td>\n",
       "      <td>200.000000</td>\n",
       "      <td>27.000000</td>\n",
       "      <td>13.000000</td>\n",
       "      <td>935.287500</td>\n",
       "      <td>279.000000</td>\n",
       "      <td>87.000000</td>\n",
       "      <td>0.000000</td>\n",
       "      <td>0.000000</td>\n",
       "      <td>0.000000</td>\n",
       "      <td>1.000000</td>\n",
       "      <td>0.000000</td>\n",
       "      <td>1.000000</td>\n",
       "      <td>0.000000</td>\n",
       "      <td>0.000000</td>\n",
       "      <td>0.000000</td>\n",
       "      <td>1.000000</td>\n",
       "      <td>0.000000</td>\n",
       "      <td>0.000000</td>\n",
       "      <td>0.000000</td>\n",
       "      <td>0.000000</td>\n",
       "      <td>0.000000</td>\n",
       "      <td>0.000000</td>\n",
       "      <td>0.000000</td>\n",
       "      <td>0.000000</td>\n",
       "      <td>0.000000</td>\n",
       "      <td>0.000000</td>\n",
       "      <td>0.000000</td>\n",
       "      <td>1.000000</td>\n",
       "      <td>1.000000</td>\n",
       "      <td>0.000000</td>\n",
       "      <td>0.00000</td>\n",
       "      <td>0.000000</td>\n",
       "      <td>0.000000</td>\n",
       "      <td>1.000000</td>\n",
       "      <td>0.000000</td>\n",
       "      <td>1.000000</td>\n",
       "      <td>0.000000</td>\n",
       "      <td>0.000000</td>\n",
       "      <td>1.000000</td>\n",
       "      <td>0.000000</td>\n",
       "      <td>0.000000</td>\n",
       "      <td>1.000000</td>\n",
       "      <td>0.000000</td>\n",
       "      <td>12.000000</td>\n",
       "      <td>121.000000</td>\n",
       "      <td>9.000000</td>\n",
       "    </tr>\n",
       "    <tr>\n",
       "      <td>max</td>\n",
       "      <td>25000.000000</td>\n",
       "      <td>12760.000000</td>\n",
       "      <td>426.000000</td>\n",
       "      <td>159711.520000</td>\n",
       "      <td>83939.980000</td>\n",
       "      <td>99.000000</td>\n",
       "      <td>1.000000</td>\n",
       "      <td>1.000000</td>\n",
       "      <td>1.000000</td>\n",
       "      <td>1.000000</td>\n",
       "      <td>1.000000</td>\n",
       "      <td>1.000000</td>\n",
       "      <td>1.000000</td>\n",
       "      <td>1.000000</td>\n",
       "      <td>1.000000</td>\n",
       "      <td>1.000000</td>\n",
       "      <td>1.000000</td>\n",
       "      <td>1.000000</td>\n",
       "      <td>1.000000</td>\n",
       "      <td>1.000000</td>\n",
       "      <td>1.000000</td>\n",
       "      <td>1.000000</td>\n",
       "      <td>1.000000</td>\n",
       "      <td>1.000000</td>\n",
       "      <td>1.000000</td>\n",
       "      <td>1.000000</td>\n",
       "      <td>1.000000</td>\n",
       "      <td>1.000000</td>\n",
       "      <td>1.000000</td>\n",
       "      <td>1.000000</td>\n",
       "      <td>1.00000</td>\n",
       "      <td>1.000000</td>\n",
       "      <td>1.000000</td>\n",
       "      <td>1.000000</td>\n",
       "      <td>1.000000</td>\n",
       "      <td>1.000000</td>\n",
       "      <td>1.000000</td>\n",
       "      <td>1.000000</td>\n",
       "      <td>1.000000</td>\n",
       "      <td>1.000000</td>\n",
       "      <td>1.000000</td>\n",
       "      <td>1.000000</td>\n",
       "      <td>1.000000</td>\n",
       "      <td>181.000000</td>\n",
       "      <td>486.000000</td>\n",
       "      <td>12.000000</td>\n",
       "    </tr>\n",
       "  </tbody>\n",
       "</table>\n",
       "</div>"
      ],
      "text/plain": [
       "       max_donation_amount  total_donations  teacher_project_posted_sequence  \\\n",
       "count        123030.000000    123030.000000                    123030.000000   \n",
       "mean            193.218674        34.432634                        16.155279   \n",
       "std             362.602635       119.898162                        34.359540   \n",
       "min               0.210000         1.000000                         1.000000   \n",
       "25%              50.000000         4.000000                         2.000000   \n",
       "50%             100.000000        10.000000                         4.000000   \n",
       "75%             200.000000        27.000000                        13.000000   \n",
       "max           25000.000000     12760.000000                       426.000000   \n",
       "\n",
       "        project_cost  resource_unit_price  school_percentage_free_lunch  \\\n",
       "count  123030.000000        123030.000000                 123030.000000   \n",
       "mean      787.487884           244.952715                     63.893006   \n",
       "std      1364.117859           718.486736                     27.147252   \n",
       "min        93.580000             0.250000                      0.000000   \n",
       "25%       340.082500            35.750000                     45.000000   \n",
       "50%       544.930000           107.060000                     73.000000   \n",
       "75%       935.287500           279.000000                     87.000000   \n",
       "max    159711.520000         83939.980000                     99.000000   \n",
       "\n",
       "         care_hunger  health_sports  special_needs   math_science  \\\n",
       "count  123030.000000  123030.000000  123030.000000  123030.000000   \n",
       "mean        0.008315       0.079420       0.108299       0.400244   \n",
       "std         0.090807       0.270394       0.310759       0.489950   \n",
       "min         0.000000       0.000000       0.000000       0.000000   \n",
       "25%         0.000000       0.000000       0.000000       0.000000   \n",
       "50%         0.000000       0.000000       0.000000       0.000000   \n",
       "75%         0.000000       0.000000       0.000000       1.000000   \n",
       "max         1.000000       1.000000       1.000000       1.000000   \n",
       "\n",
       "       music_the_arts  literacy_language  applied_learning         warmth  \\\n",
       "count   123030.000000      123030.000000     123030.000000  123030.000000   \n",
       "mean         0.139998           0.481354          0.138454       0.008315   \n",
       "std          0.346987           0.499654          0.345377       0.090807   \n",
       "min          0.000000           0.000000          0.000000       0.000000   \n",
       "25%          0.000000           0.000000          0.000000       0.000000   \n",
       "50%          0.000000           0.000000          0.000000       0.000000   \n",
       "75%          0.000000           1.000000          0.000000       0.000000   \n",
       "max          1.000000           1.000000          1.000000       1.000000   \n",
       "\n",
       "       history_civics          books  classroom_basics  computers_tablets  \\\n",
       "count   123030.000000  123030.000000     123030.000000      123030.000000   \n",
       "mean         0.084069       0.277566          0.013688           0.024327   \n",
       "std          0.277492       0.447800          0.116192           0.154064   \n",
       "min          0.000000       0.000000          0.000000           0.000000   \n",
       "25%          0.000000       0.000000          0.000000           0.000000   \n",
       "50%          0.000000       0.000000          0.000000           0.000000   \n",
       "75%          0.000000       1.000000          0.000000           0.000000   \n",
       "max          1.000000       1.000000          1.000000           1.000000   \n",
       "\n",
       "       educational_kits_games  flexible_seating  food,_clothing_hygiene  \\\n",
       "count           123030.000000     123030.000000           123030.000000   \n",
       "mean                 0.023937          0.015086                0.006064   \n",
       "std                  0.152854          0.121895                0.077633   \n",
       "min                  0.000000          0.000000                0.000000   \n",
       "25%                  0.000000          0.000000                0.000000   \n",
       "50%                  0.000000          0.000000                0.000000   \n",
       "75%                  0.000000          0.000000                0.000000   \n",
       "max                  1.000000          1.000000                1.000000   \n",
       "\n",
       "       instructional_technology  lab_equipment  musical_instruments  \\\n",
       "count             123030.000000  123030.000000        123030.000000   \n",
       "mean                   0.018654       0.009981             0.004365   \n",
       "std                    0.135300       0.099407             0.065922   \n",
       "min                    0.000000       0.000000             0.000000   \n",
       "25%                    0.000000       0.000000             0.000000   \n",
       "50%                    0.000000       0.000000             0.000000   \n",
       "75%                    0.000000       0.000000             0.000000   \n",
       "max                    1.000000       1.000000             1.000000   \n",
       "\n",
       "               other  reading_nooks,_desks_storage  sports_exercise_equipment  \\\n",
       "count  123030.000000                 123030.000000              123030.000000   \n",
       "mean        0.085630                      0.013102                   0.010136   \n",
       "std         0.279817                      0.113714                   0.100165   \n",
       "min         0.000000                      0.000000                   0.000000   \n",
       "25%         0.000000                      0.000000                   0.000000   \n",
       "50%         0.000000                      0.000000                   0.000000   \n",
       "75%         0.000000                      0.000000                   0.000000   \n",
       "max         1.000000                      1.000000                   1.000000   \n",
       "\n",
       "            supplies     technology          trips      visitors  \\\n",
       "count  123030.000000  123030.000000  123030.000000  123030.00000   \n",
       "mean        0.478802       0.323937       0.029221       0.00382   \n",
       "std         0.499552       0.467978       0.168425       0.06169   \n",
       "min         0.000000       0.000000       0.000000       0.00000   \n",
       "25%         0.000000       0.000000       0.000000       0.00000   \n",
       "50%         0.000000       0.000000       0.000000       0.00000   \n",
       "75%         1.000000       1.000000       0.000000       0.00000   \n",
       "max         1.000000       1.000000       1.000000       1.00000   \n",
       "\n",
       "          grades_6_8    grades_9_12  grades_prek_2    student_led  \\\n",
       "count  123030.000000  123030.000000  123030.000000  123030.000000   \n",
       "mean        0.212282       0.133211       0.425766       0.008356   \n",
       "std         0.408925       0.339804       0.494461       0.091027   \n",
       "min         0.000000       0.000000       0.000000       0.000000   \n",
       "25%         0.000000       0.000000       0.000000       0.000000   \n",
       "50%         0.000000       0.000000       0.000000       0.000000   \n",
       "75%         0.000000       0.000000       1.000000       0.000000   \n",
       "max         1.000000       1.000000       1.000000       1.000000   \n",
       "\n",
       "         teacher_led           male        neutral       suburban  \\\n",
       "count  123030.000000  123030.000000  123030.000000  123030.000000   \n",
       "mean        0.979371       0.149378       0.012143       0.365464   \n",
       "std         0.142140       0.356462       0.109526       0.481562   \n",
       "min         0.000000       0.000000       0.000000       0.000000   \n",
       "25%         1.000000       0.000000       0.000000       0.000000   \n",
       "50%         1.000000       0.000000       0.000000       0.000000   \n",
       "75%         1.000000       0.000000       0.000000       1.000000   \n",
       "max         1.000000       1.000000       1.000000       1.000000   \n",
       "\n",
       "                town        unknown          urban  project_status  \\\n",
       "count  123030.000000  123030.000000  123030.000000   123030.000000   \n",
       "mean        0.026579       0.040803       0.547866        0.158026   \n",
       "std         0.160850       0.197834       0.497706        0.364767   \n",
       "min         0.000000       0.000000       0.000000        0.000000   \n",
       "25%         0.000000       0.000000       0.000000        0.000000   \n",
       "50%         0.000000       0.000000       1.000000        0.000000   \n",
       "75%         0.000000       0.000000       1.000000        0.000000   \n",
       "max         1.000000       1.000000       1.000000        1.000000   \n",
       "\n",
       "       days_to_first_donation  days_duration_campaign  month_project_posted  \n",
       "count           123030.000000           123030.000000         123030.000000  \n",
       "mean                13.744420              116.387987              6.822954  \n",
       "std                 25.289826               16.156180              3.450913  \n",
       "min               -254.000000             -242.000000              1.000000  \n",
       "25%                  0.000000              118.000000              3.000000  \n",
       "50%                  3.000000              120.000000              8.000000  \n",
       "75%                 12.000000              121.000000              9.000000  \n",
       "max                181.000000              486.000000             12.000000  "
      ]
     },
     "execution_count": 39,
     "metadata": {},
     "output_type": "execute_result"
    }
   ],
   "source": [
    "ca_projects_k1.describe()"
   ]
  },
  {
   "cell_type": "code",
   "execution_count": 40,
   "metadata": {},
   "outputs": [
    {
     "data": {
      "text/plain": [
       "(123030, 47)"
      ]
     },
     "execution_count": 40,
     "metadata": {},
     "output_type": "execute_result"
    }
   ],
   "source": [
    "ca_projects_k1.shape"
   ]
  },
  {
   "cell_type": "code",
   "execution_count": 41,
   "metadata": {},
   "outputs": [
    {
     "data": {
      "text/plain": [
       "project_id                          object\n",
       "max_donation_amount                float64\n",
       "total_donations                      int32\n",
       "teacher_project_posted_sequence      int32\n",
       "project_cost                       float64\n",
       "resource_unit_price                float64\n",
       "school_percentage_free_lunch       float64\n",
       "care_hunger                          int64\n",
       "health_sports                        int64\n",
       "special_needs                        int64\n",
       "math_science                         int64\n",
       "music_the_arts                       int64\n",
       "literacy_language                    int64\n",
       "applied_learning                     int64\n",
       "warmth                               int64\n",
       "history_civics                       int64\n",
       "books                                int64\n",
       "classroom_basics                     int64\n",
       "computers_tablets                    int64\n",
       "educational_kits_games               int64\n",
       "flexible_seating                     int64\n",
       "food,_clothing_hygiene               int64\n",
       "instructional_technology             int64\n",
       "lab_equipment                        int64\n",
       "musical_instruments                  int64\n",
       "other                                int64\n",
       "reading_nooks,_desks_storage         int64\n",
       "sports_exercise_equipment            int64\n",
       "supplies                             int64\n",
       "technology                           int64\n",
       "trips                                int64\n",
       "visitors                             int64\n",
       "grades_6_8                           int64\n",
       "grades_9_12                          int64\n",
       "grades_prek_2                        int64\n",
       "student_led                          int64\n",
       "teacher_led                          int64\n",
       "male                                 int64\n",
       "neutral                              int64\n",
       "suburban                             int64\n",
       "town                                 int64\n",
       "unknown                              int64\n",
       "urban                                int64\n",
       "project_status                       int64\n",
       "days_to_first_donation               int64\n",
       "days_duration_campaign               int64\n",
       "month_project_posted                 int64\n",
       "dtype: object"
      ]
     },
     "execution_count": 41,
     "metadata": {},
     "output_type": "execute_result"
    }
   ],
   "source": [
    "ca_projects_k1.astype({'total_donations': 'int32', 'teacher_project_posted_sequence':'int32'}).dtypes"
   ]
  },
  {
   "cell_type": "code",
   "execution_count": 42,
   "metadata": {},
   "outputs": [
    {
     "data": {
      "text/plain": [
       "max_donation_amount                 9.348939\n",
       "total_donations                    11.751605\n",
       "teacher_project_posted_sequence    13.424368\n",
       "project_cost                        7.463220\n",
       "resource_unit_price                 7.199057\n",
       "days_to_first_donation             14.442819\n",
       "days_duration_campaign              9.630984\n",
       "dtype: float64"
      ]
     },
     "execution_count": 42,
     "metadata": {},
     "output_type": "execute_result"
    }
   ],
   "source": [
    "test_scaling = ca_projects_k1[['max_donation_amount','total_donations','teacher_project_posted_sequence','project_cost','resource_unit_price', 'days_to_first_donation','days_duration_campaign']]\n",
    "\n",
    "Q1 = test_scaling.quantile(0.25)\n",
    "Q3 = test_scaling.quantile(0.75)\n",
    "IQR = Q3 - Q1\n",
    "\n",
    "outliers = ((test_scaling < (Q1 - 1.5 * IQR)) | (test_scaling > (Q3 + 1.5 * IQR))).sum()\n",
    "outliers\n",
    "\n",
    "outlier_perc =  outliers * 100.0 / np.shape(test_scaling)[0]\n",
    "outlier_perc"
   ]
  },
  {
   "cell_type": "code",
   "execution_count": 43,
   "metadata": {},
   "outputs": [],
   "source": [
    "X_k1 = ca_projects_k1[ca_projects_k1.columns[ca_projects_k1.columns!='project_status']].set_index('project_id')\n",
    "\n",
    "y_k1 = ca_projects_k1[['project_status']]"
   ]
  },
  {
   "cell_type": "code",
   "execution_count": 44,
   "metadata": {},
   "outputs": [
    {
     "name": "stdout",
     "output_type": "stream",
     "text": [
      "(123030, 45)\n",
      "(123030, 1)\n"
     ]
    }
   ],
   "source": [
    "print(X_k1.shape)\n",
    "print(y_k1.shape)"
   ]
  },
  {
   "cell_type": "code",
   "execution_count": 45,
   "metadata": {},
   "outputs": [
    {
     "data": {
      "text/plain": [
       "0    103588\n",
       "1     19442\n",
       "Name: project_status, dtype: int64"
      ]
     },
     "execution_count": 45,
     "metadata": {},
     "output_type": "execute_result"
    }
   ],
   "source": [
    "y_k1['project_status'].value_counts()"
   ]
  },
  {
   "cell_type": "code",
   "execution_count": 46,
   "metadata": {},
   "outputs": [],
   "source": [
    "X_k1_norm = X_k1.copy()\n",
    "\n",
    "X_k1_norm[['max_donation_amount','total_donations','teacher_project_posted_sequence','project_cost','resource_unit_price', 'days_to_first_donation','days_duration_campaign']] = norm.fit_transform(X_k1_norm[['max_donation_amount','total_donations','teacher_project_posted_sequence','project_cost','resource_unit_price', 'days_to_first_donation','days_duration_campaign']])"
   ]
  },
  {
   "cell_type": "code",
   "execution_count": 47,
   "metadata": {},
   "outputs": [
    {
     "name": "stdout",
     "output_type": "stream",
     "text": [
      "(123030, 45)\n"
     ]
    }
   ],
   "source": [
    "print(X_k1_norm.shape)"
   ]
  },
  {
   "cell_type": "code",
   "execution_count": 48,
   "metadata": {},
   "outputs": [],
   "source": [
    "rus2 = RandomUnderSampler(sampling_strategy=.35,random_state=0)\n",
    "X_k1_resampled, y_k1_resampled = rus2.fit_resample(X_k1_norm, y_k1)\n",
    "#print(sorted(Counter(y_resampled).items()))"
   ]
  },
  {
   "cell_type": "code",
   "execution_count": 49,
   "metadata": {},
   "outputs": [
    {
     "name": "stdout",
     "output_type": "stream",
     "text": [
      "The percentage of projects that did not meet their goal before the deadline is: 25.926123483131086 %\n"
     ]
    }
   ],
   "source": [
    "filtered2 = y_k1_resampled.loc[y_k1_resampled['project_status']==1]\n",
    "percentage_expired_projects = (len(filtered2)/len(y_k1_resampled))*100\n",
    "print(\"The percentage of projects that did not meet their goal before the deadline is:\", percentage_expired_projects,\"%\")"
   ]
  },
  {
   "cell_type": "code",
   "execution_count": 50,
   "metadata": {},
   "outputs": [
    {
     "data": {
      "text/plain": [
       "0    55548\n",
       "1    19442\n",
       "Name: project_status, dtype: int64"
      ]
     },
     "execution_count": 50,
     "metadata": {},
     "output_type": "execute_result"
    }
   ],
   "source": [
    "y_k1_resampled['project_status'].value_counts()"
   ]
  },
  {
   "cell_type": "code",
   "execution_count": 51,
   "metadata": {},
   "outputs": [],
   "source": [
    "y_k1_resampled = y_k1_resampled[['project_status']].values\n",
    "y_k1_resampled = y_k1_resampled.ravel()"
   ]
  },
  {
   "cell_type": "code",
   "execution_count": 52,
   "metadata": {},
   "outputs": [
    {
     "data": {
      "text/plain": [
       "(74990,)"
      ]
     },
     "execution_count": 52,
     "metadata": {},
     "output_type": "execute_result"
    }
   ],
   "source": [
    "y_k1_resampled.shape"
   ]
  },
  {
   "cell_type": "code",
   "execution_count": 53,
   "metadata": {},
   "outputs": [
    {
     "data": {
      "text/plain": [
       "(74990, 45)"
      ]
     },
     "execution_count": 53,
     "metadata": {},
     "output_type": "execute_result"
    }
   ],
   "source": [
    "X_k1_resampled.shape"
   ]
  },
  {
   "cell_type": "code",
   "execution_count": 54,
   "metadata": {},
   "outputs": [],
   "source": [
    "X_k1_train, X_k1_test, y_k1_train, y_k1_test = train_test_split(X_k1_resampled, y_k1_resampled, test_size=0.20)"
   ]
  },
  {
   "cell_type": "code",
   "execution_count": 55,
   "metadata": {},
   "outputs": [],
   "source": [
    "Sum_of_squared_distances_k1 = []\n",
    "K = range(1,10)\n",
    "for k in K:\n",
    "    km = KMeans(n_clusters=k)\n",
    "    km = km.fit(X_k1_train)\n",
    "    Sum_of_squared_distances_k1.append(km.inertia_)"
   ]
  },
  {
   "cell_type": "code",
   "execution_count": 56,
   "metadata": {},
   "outputs": [
    {
     "data": {
      "image/png": "[encoded data removed]",
      "text/plain": [
       "<Figure size 432x288 with 1 Axes>"
      ]
     },
     "metadata": {},
     "output_type": "display_data"
    }
   ],
   "source": [
    "plt.plot(K, Sum_of_squared_distances_k1, 'bx-')\n",
    "plt.xlabel('k')\n",
    "plt.ylabel('Sum_of_squared_distances')\n",
    "plt.title('Elbow Method For Optimal k')\n",
    "plt.show()"
   ]
  },
  {
   "cell_type": "code",
   "execution_count": 57,
   "metadata": {},
   "outputs": [
    {
     "data": {
      "text/plain": [
       "KNeighborsClassifier(algorithm='auto', leaf_size=30, metric='minkowski',\n",
       "                     metric_params=None, n_jobs=None, n_neighbors=2, p=2,\n",
       "                     weights='uniform')"
      ]
     },
     "execution_count": 57,
     "metadata": {},
     "output_type": "execute_result"
    }
   ],
   "source": [
    "neigh_2 = KNeighborsClassifier(n_neighbors=2)\n",
    "neigh_2.fit(X_k1_train, y_k1_train)"
   ]
  },
  {
   "cell_type": "code",
   "execution_count": 58,
   "metadata": {},
   "outputs": [
    {
     "data": {
      "text/plain": [
       "(59992, 45)"
      ]
     },
     "execution_count": 58,
     "metadata": {},
     "output_type": "execute_result"
    }
   ],
   "source": [
    "X_k1_train.shape"
   ]
  },
  {
   "cell_type": "code",
   "execution_count": 59,
   "metadata": {},
   "outputs": [
    {
     "data": {
      "text/plain": [
       "(59992,)"
      ]
     },
     "execution_count": 59,
     "metadata": {},
     "output_type": "execute_result"
    }
   ],
   "source": [
    "y_k1_train.shape"
   ]
  },
  {
   "cell_type": "code",
   "execution_count": 60,
   "metadata": {},
   "outputs": [
    {
     "name": "stdout",
     "output_type": "stream",
     "text": [
      "(14998, 45)\n",
      "(14998,)\n"
     ]
    }
   ],
   "source": [
    "print(X_k1_test.shape)\n",
    "print(y_k1_test.shape)"
   ]
  },
  {
   "cell_type": "code",
   "execution_count": 61,
   "metadata": {},
   "outputs": [
    {
     "name": "stdout",
     "output_type": "stream",
     "text": [
      "f1_score: 0.2327469553450609 recall_score: 0.15632303297844716 precision_score: 0.45537065052950076\n",
      "None\n"
     ]
    }
   ],
   "source": [
    "y_k1_pred = neigh_2.predict(X_k1_test)\n",
    "print(performance_metric(y_k1_test,y_k1_pred))\n"
   ]
  },
  {
   "cell_type": "code",
   "execution_count": 62,
   "metadata": {},
   "outputs": [
    {
     "name": "stdout",
     "output_type": "stream",
     "text": [
      "[[10427   720]\n",
      " [ 3249   602]]\n"
     ]
    }
   ],
   "source": [
    "confusion_m = confusion_matrix(y_k1_test, y_k1_pred)\n",
    "print(confusion_m)"
   ]
  },
  {
   "cell_type": "code",
   "execution_count": 63,
   "metadata": {},
   "outputs": [],
   "source": [
    "# compare to (0.24525436598329536, 0.16632337796086508, 0.4667630057803468) It actually appears to be worse."
   ]
  },
  {
   "cell_type": "code",
   "execution_count": 64,
   "metadata": {},
   "outputs": [
    {
     "name": "stdout",
     "output_type": "stream",
     "text": [
      "f1_score: 0.32712808273667465 recall_score: 0.2669436509997403 precision_score: 0.42235004108463436\n",
      "None\n"
     ]
    }
   ],
   "source": [
    "neigh_3_k1 = KNeighborsClassifier(n_neighbors=3)\n",
    "neigh_3_k1.fit(X_k1_train, y_k1_train)\n",
    "\n",
    "y_k1_pred_n3 = neigh_3.predict(X_k1_test)\n",
    "\n",
    "print(performance_metric(y_k1_test, y_k1_pred_n3))"
   ]
  },
  {
   "cell_type": "markdown",
   "metadata": {},
   "source": [
    "### Test some features:"
   ]
  },
  {
   "cell_type": "code",
   "execution_count": 65,
   "metadata": {},
   "outputs": [
    {
     "data": {
      "text/plain": [
       "max_donation_amount               -0.145048\n",
       "total_donations                   -0.060173\n",
       "teacher_project_posted_sequence   -0.069236\n",
       "project_cost                       0.146611\n",
       "resource_unit_price                0.086145\n",
       "dtype: float64"
      ]
     },
     "execution_count": 65,
     "metadata": {},
     "output_type": "execute_result"
    }
   ],
   "source": [
    "ca_projects_k1[ca_projects_k1.columns[1:6]].apply(lambda x: x.corr(ca_projects_k1['project_status']))\n",
    "\n",
    "#df[df.columns[1:-1]].apply(lambda x: x.corr(df['special_col']))"
   ]
  },
  {
   "cell_type": "code",
   "execution_count": 66,
   "metadata": {},
   "outputs": [
    {
     "data": {
      "text/plain": [
       "days_to_first_donation    0.284491\n",
       "days_duration_campaign   -0.004584\n",
       "month_project_posted      0.036219\n",
       "dtype: float64"
      ]
     },
     "execution_count": 66,
     "metadata": {},
     "output_type": "execute_result"
    }
   ],
   "source": [
    "ca_projects_k1[ca_projects_k1.columns[-3:]].apply(lambda x: x.corr(ca_projects_k1['project_status']))"
   ]
  },
  {
   "cell_type": "code",
   "execution_count": 67,
   "metadata": {},
   "outputs": [
    {
     "data": {
      "text/plain": [
       "days_to_first_donation    0.284491\n",
       "days_duration_campaign   -0.004584\n",
       "month_project_posted      0.036219\n",
       "dtype: float64"
      ]
     },
     "execution_count": 67,
     "metadata": {},
     "output_type": "execute_result"
    }
   ],
   "source": [
    "ca_projects_k1[ca_projects_k1.columns[-3:]].apply(lambda x: x.corr(ca_projects_k1['project_status']))"
   ]
  },
  {
   "cell_type": "markdown",
   "metadata": {},
   "source": [
    "### Random Forest:"
   ]
  },
  {
   "cell_type": "code",
   "execution_count": 68,
   "metadata": {},
   "outputs": [],
   "source": [
    "from sklearn.ensemble import RandomForestRegressor\n",
    "\n",
    "\n",
    "depths_k1 = [2, 4, 6, 8, 10, 12]\n",
    "train_result_k1 = []\n",
    "test_result_k1 = []\n",
    "\n",
    "for i, depth in enumerate(depths_k1):\n",
    "    RFR_k1 = RandomForestRegressor(n_estimators=10, max_depth = depth)\n",
    "    RFR_k1.fit(X_k1_train, y_k1_train)\n",
    "    train_pred_k1 = RFR_k1.predict(X_k1_train)\n",
    "    score_train_k1 = r2_score(y_k1_train, train_pred_k1)\n",
    "    train_result_k1.append(score_train_k1)\n",
    "    \n",
    "    y_pred_k1 = RFR_k1.predict(X_k1_test)\n",
    "    score_test_k1 = r2_score(y_k1_test, y_pred_k1)\n",
    "    test_result_k1.append(score_test_k1)"
   ]
  },
  {
   "cell_type": "code",
   "execution_count": 69,
   "metadata": {},
   "outputs": [
    {
     "data": {
      "text/plain": [
       "[0.3719420249942489,\n",
       " 0.44314284502227985,\n",
       " 0.49104571570717015,\n",
       " 0.5431501980377769,\n",
       " 0.6091376464573408,\n",
       " 0.6927559004823307]"
      ]
     },
     "execution_count": 69,
     "metadata": {},
     "output_type": "execute_result"
    }
   ],
   "source": [
    "train_result_k1"
   ]
  },
  {
   "cell_type": "code",
   "execution_count": 70,
   "metadata": {},
   "outputs": [
    {
     "data": {
      "image/png": "[encoded data removed]",
      "text/plain": [
       "<Figure size 432x288 with 1 Axes>"
      ]
     },
     "metadata": {},
     "output_type": "display_data"
    }
   ],
   "source": [
    "import seaborn as sns \n",
    "\n",
    "sns.set(font_scale = 1)\n",
    "plot_df = pd.DataFrame({'test score': test_result_k1,\n",
    "                   'train score': train_result_k1}, index=depths_k1)\n",
    "ax = plot_df.plot.bar(rot=0) #?"
   ]
  },
  {
   "cell_type": "code",
   "execution_count": 71,
   "metadata": {},
   "outputs": [
    {
     "name": "stdout",
     "output_type": "stream",
     "text": [
      "0.49547298855329724\n"
     ]
    }
   ],
   "source": [
    "RFR_8 = RandomForestRegressor(n_estimators=10, max_depth = 8)\n",
    "RFR_8.fit(X_k1_train, y_k1_train)\n",
    "train_pred_8 = RFR_8.predict(X_k1_train)\n",
    "score_train_8 = r2_score(y_k1_train, train_pred_8)   \n",
    "y_pred_8 = RFR_8.predict(X_k1_test)\n",
    "score_test_8 = r2_score(y_k1_test, y_pred_8)\n",
    "print(score_test_8)"
   ]
  },
  {
   "cell_type": "code",
   "execution_count": 72,
   "metadata": {},
   "outputs": [
    {
     "name": "stdout",
     "output_type": "stream",
     "text": [
      "0.49807291453468705\n"
     ]
    }
   ],
   "source": [
    "RFR_10 = RandomForestRegressor(n_estimators=10, max_depth = 10)\n",
    "RFR_10.fit(X_k1_train, y_k1_train)\n",
    "train_pred_10 = RFR_10.predict(X_k1_train)\n",
    "score_train_10 = r2_score(y_k1_train, train_pred_10)   \n",
    "y_pred_10 = RFR_10.predict(X_k1_test)\n",
    "score_test_10 = r2_score(y_k1_test, y_pred_10)\n",
    "print(score_test_10)"
   ]
  },
  {
   "cell_type": "markdown",
   "metadata": {},
   "source": [
    "### LogReg:"
   ]
  },
  {
   "cell_type": "code",
   "execution_count": 73,
   "metadata": {},
   "outputs": [
    {
     "name": "stdout",
     "output_type": "stream",
     "text": [
      "[[10049  1098]\n",
      " [ 1262  2589]]\n"
     ]
    },
    {
     "data": {
      "text/plain": [
       "0.8426456860914788"
      ]
     },
     "execution_count": 73,
     "metadata": {},
     "output_type": "execute_result"
    }
   ],
   "source": [
    "logreg.fit(X_k1_train,y_k1_train)\n",
    "\n",
    "y_k1_pred_log = logreg.predict(X_k1_test)\n",
    "print(confusion_matrix(y_k1_test, y_k1_pred_log))\n",
    "\n",
    "accuracy_score(y_k1_test, y_k1_pred_log) #WHAT"
   ]
  },
  {
   "cell_type": "code",
   "execution_count": 80,
   "metadata": {},
   "outputs": [
    {
     "name": "stdout",
     "output_type": "stream",
     "text": [
      "[0.         0.09850184 1.        ] [0.         0.67229291 1.        ] [2 1 0]\n"
     ]
    },
    {
     "data": {
      "image/png": "[encoded data removed]",
      "text/plain": [
       "<Figure size 432x288 with 1 Axes>"
      ]
     },
     "metadata": {},
     "output_type": "display_data"
    }
   ],
   "source": [
    "fpr, tpr, thresholds = metrics.roc_curve(y_k1_test, y_k1_pred_log, pos_label=1)\n",
    "print(fpr, tpr, thresholds)\n",
    "\n",
    "plt.plot(fpr,tpr,label=\"logreg predict\")\n",
    "plt.legend(loc=4)\n",
    "plt.show()"
   ]
  },
  {
   "cell_type": "markdown",
   "metadata": {},
   "source": [
    "### Remove some features:"
   ]
  },
  {
   "cell_type": "markdown",
   "metadata": {},
   "source": [
    "These are very low/have almost no correlation:\n",
    "teacher_project_posted_sequence<br>\n",
    "total_donations<br>\n",
    "resource_unit_price<br>\n",
    "days_duration_campaign<br>\n",
    "month_project_posted <br>"
   ]
  },
  {
   "cell_type": "code",
   "execution_count": 74,
   "metadata": {},
   "outputs": [],
   "source": [
    "#data = ca_projects_k1.drop(['total_donations','resource_unit_price','days_duration_campaign','month_project_posted'],axis=1)"
   ]
  },
  {
   "cell_type": "code",
   "execution_count": 75,
   "metadata": {},
   "outputs": [],
   "source": [
    "#cols = data.columns.tolist()\n"
   ]
  },
  {
   "cell_type": "code",
   "execution_count": 76,
   "metadata": {},
   "outputs": [
    {
     "data": {
      "text/plain": [
       "\"\\ncols=[\\n    'project_id',\\n 'max_donation_amount',\\n 'teacher_project_posted_sequence',\\n 'project_cost',\\n 'school_percentage_free_lunch',\\n 'care_hunger',\\n 'health_sports',\\n 'special_needs',\\n 'math_science',\\n 'music_the_arts',\\n 'literacy_language',\\n 'applied_learning',\\n 'warmth',\\n 'history_civics',\\n 'books',\\n 'classroom_basics',\\n 'computers_tablets',\\n 'educational_kits_games',\\n 'flexible_seating',\\n 'food,_clothing_hygiene',\\n 'instructional_technology',\\n 'lab_equipment',\\n 'musical_instruments',\\n 'other',\\n 'reading_nooks,_desks_storage',\\n 'sports_exercise_equipment',\\n 'supplies',\\n 'technology',\\n 'trips',\\n 'visitors',\\n 'grades_6_8',\\n 'grades_9_12',\\n 'grades_prek_2',\\n 'student_led',\\n 'teacher_led',\\n 'male',\\n 'neutral',\\n 'suburban',\\n 'town',\\n 'unknown',\\n 'urban',\\n 'days_to_first_donation',\\n'project_status']\\n\""
      ]
     },
     "execution_count": 76,
     "metadata": {},
     "output_type": "execute_result"
    }
   ],
   "source": [
    "'''\n",
    "cols=[\n",
    "    'project_id',\n",
    " 'max_donation_amount',\n",
    " 'teacher_project_posted_sequence',\n",
    " 'project_cost',\n",
    " 'school_percentage_free_lunch',\n",
    " 'care_hunger',\n",
    " 'health_sports',\n",
    " 'special_needs',\n",
    " 'math_science',\n",
    " 'music_the_arts',\n",
    " 'literacy_language',\n",
    " 'applied_learning',\n",
    " 'warmth',\n",
    " 'history_civics',\n",
    " 'books',\n",
    " 'classroom_basics',\n",
    " 'computers_tablets',\n",
    " 'educational_kits_games',\n",
    " 'flexible_seating',\n",
    " 'food,_clothing_hygiene',\n",
    " 'instructional_technology',\n",
    " 'lab_equipment',\n",
    " 'musical_instruments',\n",
    " 'other',\n",
    " 'reading_nooks,_desks_storage',\n",
    " 'sports_exercise_equipment',\n",
    " 'supplies',\n",
    " 'technology',\n",
    " 'trips',\n",
    " 'visitors',\n",
    " 'grades_6_8',\n",
    " 'grades_9_12',\n",
    " 'grades_prek_2',\n",
    " 'student_led',\n",
    " 'teacher_led',\n",
    " 'male',\n",
    " 'neutral',\n",
    " 'suburban',\n",
    " 'town',\n",
    " 'unknown',\n",
    " 'urban',\n",
    " 'days_to_first_donation',\n",
    "'project_status']\n",
    "'''"
   ]
  },
  {
   "cell_type": "code",
   "execution_count": 77,
   "metadata": {},
   "outputs": [],
   "source": [
    "#data = data[cols]"
   ]
  },
  {
   "cell_type": "code",
   "execution_count": 78,
   "metadata": {},
   "outputs": [],
   "source": [
    "#data[data.columns[1:-1]].apply(lambda x: x.corr(data['project_status']))"
   ]
  },
  {
   "cell_type": "code",
   "execution_count": 79,
   "metadata": {},
   "outputs": [],
   "source": [
    "# So this overview won't help much with the dummy-columns, but the others might be helpful. \n",
    "# It worries me that there are 0 columns with strong correlation\n"
   ]
  }
 ],
 "metadata": {
  "kernelspec": {
   "display_name": "Python 3",
   "language": "python",
   "name": "python3"
  },
  "language_info": {
   "codemirror_mode": {
    "name": "ipython",
    "version": 3
   },
   "file_extension": ".py",
   "mimetype": "text/x-python",
   "name": "python",
   "nbconvert_exporter": "python",
   "pygments_lexer": "ipython3",
   "version": "3.7.4"
  }
 },
 "nbformat": 4,
 "nbformat_minor": 2
}
